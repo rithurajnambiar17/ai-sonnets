{
  "cells": [
    {
      "cell_type": "code",
      "execution_count": 37,
      "metadata": {
        "id": "BGOoJlj2kO8n"
      },
      "outputs": [],
      "source": [
        "import re\n",
        "import pickle\n",
        "import numpy as np\n",
        "import tensorflow as tf\n",
        "from tensorflow.keras.preprocessing.text import Tokenizer\n",
        "from tensorflow.keras.preprocessing.sequence import pad_sequences"
      ]
    },
    {
      "cell_type": "code",
      "execution_count": 2,
      "metadata": {
        "id": "bW1jUFXLkO8s"
      },
      "outputs": [],
      "source": [
        "# Load and preprocess sonnet data\n",
        "sonnet_data = \"\"\n",
        "with open(\"/content/Sonnet.txt\", \"r\") as file:\n",
        "    sonnet_data = file.read()\n",
        "\n",
        "sonnets = sonnet_data.split(\"\\n\\n\")  # Split sonnets based on double lines\n"
      ]
    },
    {
      "cell_type": "code",
      "execution_count": 3,
      "metadata": {
        "id": "fTdXtDRDkO8t"
      },
      "outputs": [],
      "source": [
        "# Load and preprocess play data\n",
        "play_data = \"\"\n",
        "with open(\"/content/alllines.txt\", \"r\") as file:\n",
        "    play_data = file.read()\n",
        "\n",
        "play_dialogues = play_data.split(\"\\n\")  # Split dialogues based on new lines\n"
      ]
    },
    {
      "cell_type": "code",
      "execution_count": 4,
      "metadata": {
        "id": "n17iLCGikO8v"
      },
      "outputs": [],
      "source": [
        "def remove_words_with_symbols(text):\n",
        "    '''\n",
        "    Removes words with symbols from text\n",
        "    '''\n",
        "    pattern = r'\\b\\w*[^a-zA-Z0-9\\s]\\w*\\b'\n",
        "    clean_text = re.sub(pattern, '', text)\n",
        "    return clean_text\n",
        "\n",
        "def remove_inverted_commas(text):\n",
        "    '''\n",
        "    Removes inverted commas from text\n",
        "    '''\n",
        "    pattern = r'^\"|\"$'\n",
        "    clean_text = re.sub(pattern, '', text, flags=re.MULTILINE)\n",
        "    return clean_text\n",
        "\n",
        "def remove_punctuation(text):\n",
        "    '''\n",
        "    Removes punctuation from text\n",
        "    '''\n",
        "    pattern = r'[^\\w\\s]'\n",
        "    clean_text = re.sub(pattern, '', text)\n",
        "    return clean_text\n",
        "\n",
        "def convert_to_lower(text):\n",
        "    '''\n",
        "    Converts text to lower case\n",
        "    '''\n",
        "    return text.lower()"
      ]
    },
    {
      "cell_type": "code",
      "execution_count": 5,
      "metadata": {
        "id": "DOCf3DGfkO8w"
      },
      "outputs": [],
      "source": [
        "for i in range(len(sonnets)):\n",
        "    sonnets[i] = remove_words_with_symbols(sonnets[i])"
      ]
    },
    {
      "cell_type": "code",
      "execution_count": 6,
      "metadata": {
        "id": "tbSi3f77kO8x"
      },
      "outputs": [],
      "source": [
        "for i in range(len(play_dialogues)):\n",
        "    play_dialogues[i] = remove_inverted_commas(play_dialogues[i])"
      ]
    },
    {
      "cell_type": "code",
      "execution_count": 7,
      "metadata": {
        "id": "UUt8q1jGkO8y"
      },
      "outputs": [],
      "source": [
        "for i in range(len(play_dialogues)):\n",
        "    play_dialogues[i] = remove_punctuation(play_dialogues[i])\n",
        "\n",
        "for i in range(len(sonnets)):\n",
        "    sonnets[i] = remove_punctuation(sonnets[i])"
      ]
    },
    {
      "cell_type": "code",
      "execution_count": 8,
      "metadata": {
        "id": "MVPnYlKwkO8z"
      },
      "outputs": [],
      "source": [
        "for i in range(len(play_dialogues)):\n",
        "    play_dialogues[i] = convert_to_lower(play_dialogues[i])\n",
        "\n",
        "for i in range(len(sonnets)):\n",
        "    sonnets[i] = convert_to_lower(sonnets[i])"
      ]
    },
    {
      "cell_type": "code",
      "execution_count": 9,
      "metadata": {
        "id": "YnFLpGrfkO80"
      },
      "outputs": [],
      "source": [
        "# Combine sonnet and play data\n",
        "combined_data = sonnets + play_dialogues"
      ]
    },
    {
      "cell_type": "code",
      "execution_count": 10,
      "metadata": {
        "id": "d9ZdbZRFkO81"
      },
      "outputs": [],
      "source": [
        "# Tokenize the text\n",
        "tokenizer = Tokenizer()\n",
        "tokenizer.fit_on_texts(combined_data)\n",
        "total_words = len(tokenizer.word_index) + 1"
      ]
    },
    {
      "cell_type": "code",
      "execution_count": 11,
      "metadata": {
        "id": "ziCVgixAkO82"
      },
      "outputs": [],
      "source": [
        "# Generate input sequences\n",
        "input_sequences = []\n",
        "for line in combined_data:\n",
        "    token_list = tokenizer.texts_to_sequences([line])[0]\n",
        "    for i in range(1, len(token_list)):\n",
        "        n_gram_sequence = token_list[:i+1]\n",
        "        input_sequences.append(n_gram_sequence)"
      ]
    },
    {
      "cell_type": "code",
      "execution_count": 12,
      "metadata": {
        "id": "P3WIadLlkO83"
      },
      "outputs": [],
      "source": [
        "# Pad sequences\n",
        "max_sequence_len = max([len(x) for x in input_sequences])\n",
        "input_sequences = pad_sequences(input_sequences, maxlen=max_sequence_len, padding='pre')"
      ]
    },
    {
      "cell_type": "code",
      "execution_count": 13,
      "metadata": {
        "id": "PQI_2sMkkO83"
      },
      "outputs": [],
      "source": [
        "# Split input sequences into input and output\n",
        "input_sequences = tf.keras.preprocessing.sequence.pad_sequences(input_sequences)\n",
        "xs, labels = input_sequences[:, :-1], input_sequences[:, -1]"
      ]
    },
    {
      "cell_type": "code",
      "execution_count": 14,
      "metadata": {
        "id": "pITQ6N85kO84"
      },
      "outputs": [],
      "source": [
        "# Define the model\n",
        "model = tf.keras.Sequential([\n",
        "    tf.keras.layers.Embedding(total_words, 100, input_length=max_sequence_len-1),\n",
        "    # tf.keras.layers.Bidirectional(tf.keras.layers.LSTM(150, return_sequences=True)),\n",
        "    tf.keras.layers.LSTM(150, return_sequences=True),\n",
        "    tf.keras.layers.Dropout(0.2),\n",
        "    tf.keras.layers.LSTM(100),\n",
        "    tf.keras.layers.Dense(total_words/2, activation='relu'),\n",
        "    tf.keras.layers.Dense(total_words, activation='softmax')\n",
        "])"
      ]
    },
    {
      "cell_type": "code",
      "execution_count": 15,
      "metadata": {
        "id": "HmYYly9WkO85"
      },
      "outputs": [],
      "source": [
        "# Compile the model\n",
        "model.compile(loss='sparse_categorical_crossentropy', optimizer='adam', metrics=['accuracy'])"
      ]
    },
    {
      "cell_type": "code",
      "execution_count": 16,
      "metadata": {
        "colab": {
          "base_uri": "https://localhost:8080/"
        },
        "id": "ilflhglIkO86",
        "outputId": "ca4bb637-3314-4135-c6b6-2c31f4ffbf34"
      },
      "outputs": [
        {
          "name": "stdout",
          "output_type": "stream",
          "text": [
            "Epoch 1/10\n",
            "15608/15608 [==============================] - 1199s 76ms/step - loss: 6.6089 - accuracy: 0.0633\n",
            "Epoch 2/10\n",
            "15608/15608 [==============================] - 1154s 74ms/step - loss: 6.2089 - accuracy: 0.0919\n",
            "Epoch 3/10\n",
            "15608/15608 [==============================] - 1150s 74ms/step - loss: 6.0274 - accuracy: 0.1010\n",
            "Epoch 4/10\n",
            "15608/15608 [==============================] - 1150s 74ms/step - loss: 5.9056 - accuracy: 0.1074\n",
            "Epoch 5/10\n",
            "15608/15608 [==============================] - 1148s 74ms/step - loss: 5.8137 - accuracy: 0.1124\n",
            "Epoch 6/10\n",
            "15608/15608 [==============================] - 1147s 73ms/step - loss: 5.7372 - accuracy: 0.1160\n",
            "Epoch 7/10\n",
            "15608/15608 [==============================] - 1148s 74ms/step - loss: 5.6663 - accuracy: 0.1196\n",
            "Epoch 8/10\n",
            "15608/15608 [==============================] - 1147s 73ms/step - loss: 5.6001 - accuracy: 0.1231\n",
            "Epoch 9/10\n",
            "15608/15608 [==============================] - 1147s 73ms/step - loss: 5.5355 - accuracy: 0.1257\n",
            "Epoch 10/10\n",
            "15608/15608 [==============================] - 1150s 74ms/step - loss: 5.4750 - accuracy: 0.1290\n"
          ]
        }
      ],
      "source": [
        "# Train the model\n",
        "history = model.fit(xs, labels, epochs=10)"
      ]
    },
    {
      "cell_type": "code",
      "execution_count": 8,
      "metadata": {},
      "outputs": [
        {
          "ename": "AttributeError",
          "evalue": "module 'keras' has no attribute 'utils'",
          "output_type": "error",
          "traceback": [
            "\u001b[1;31m---------------------------------------------------------------------------\u001b[0m",
            "\u001b[1;31mAttributeError\u001b[0m                            Traceback (most recent call last)",
            "Cell \u001b[1;32mIn[8], line 1\u001b[0m\n\u001b[1;32m----> 1\u001b[0m \u001b[39mimport\u001b[39;00m \u001b[39mtensorflow\u001b[39;00m \u001b[39mas\u001b[39;00m \u001b[39mtf\u001b[39;00m\n",
            "File \u001b[1;32mc:\\Users\\Rithuraj\\AppData\\Local\\Programs\\Python\\Python38\\lib\\site-packages\\tensorflow\\__init__.py:476\u001b[0m\n\u001b[0;32m    474\u001b[0m \u001b[39mif\u001b[39;00m \u001b[39mhasattr\u001b[39m(_current_module, \u001b[39m\"\u001b[39m\u001b[39mkeras\u001b[39m\u001b[39m\"\u001b[39m):\n\u001b[0;32m    475\u001b[0m   \u001b[39mtry\u001b[39;00m:\n\u001b[1;32m--> 476\u001b[0m     _keras\u001b[39m.\u001b[39;49m_load()\n\u001b[0;32m    477\u001b[0m   \u001b[39mexcept\u001b[39;00m \u001b[39mImportError\u001b[39;00m:\n\u001b[0;32m    478\u001b[0m     \u001b[39mpass\u001b[39;00m\n",
            "File \u001b[1;32mc:\\Users\\Rithuraj\\AppData\\Local\\Programs\\Python\\Python38\\lib\\site-packages\\tensorflow\\python\\util\\lazy_loader.py:41\u001b[0m, in \u001b[0;36mLazyLoader._load\u001b[1;34m(self)\u001b[0m\n\u001b[0;32m     39\u001b[0m \u001b[39m\u001b[39m\u001b[39m\"\"\"Load the module and insert it into the parent's globals.\"\"\"\u001b[39;00m\n\u001b[0;32m     40\u001b[0m \u001b[39m# Import the target module and insert it into the parent's namespace\u001b[39;00m\n\u001b[1;32m---> 41\u001b[0m module \u001b[39m=\u001b[39m importlib\u001b[39m.\u001b[39;49mimport_module(\u001b[39mself\u001b[39;49m\u001b[39m.\u001b[39;49m\u001b[39m__name__\u001b[39;49m)\n\u001b[0;32m     42\u001b[0m \u001b[39mself\u001b[39m\u001b[39m.\u001b[39m_parent_module_globals[\u001b[39mself\u001b[39m\u001b[39m.\u001b[39m_local_name] \u001b[39m=\u001b[39m module\n\u001b[0;32m     44\u001b[0m \u001b[39m# Emit a warning if one was specified\u001b[39;00m\n",
            "File \u001b[1;32mc:\\Users\\Rithuraj\\AppData\\Local\\Programs\\Python\\Python38\\lib\\importlib\\__init__.py:127\u001b[0m, in \u001b[0;36mimport_module\u001b[1;34m(name, package)\u001b[0m\n\u001b[0;32m    125\u001b[0m             \u001b[39mbreak\u001b[39;00m\n\u001b[0;32m    126\u001b[0m         level \u001b[39m+\u001b[39m\u001b[39m=\u001b[39m \u001b[39m1\u001b[39m\n\u001b[1;32m--> 127\u001b[0m \u001b[39mreturn\u001b[39;00m _bootstrap\u001b[39m.\u001b[39;49m_gcd_import(name[level:], package, level)\n",
            "File \u001b[1;32mc:\\Users\\Rithuraj\\AppData\\Local\\Programs\\Python\\Python38\\lib\\site-packages\\keras\\api\\__init__.py:8\u001b[0m\n\u001b[0;32m      3\u001b[0m \u001b[39m\"\"\"Public API for tf. namespace.\u001b[39;00m\n\u001b[0;32m      4\u001b[0m \u001b[39m\"\"\"\u001b[39;00m\n\u001b[0;32m      6\u001b[0m \u001b[39mimport\u001b[39;00m \u001b[39msys\u001b[39;00m \u001b[39mas\u001b[39;00m \u001b[39m_sys\u001b[39;00m\n\u001b[1;32m----> 8\u001b[0m \u001b[39mfrom\u001b[39;00m \u001b[39mkeras\u001b[39;00m\u001b[39m.\u001b[39;00m\u001b[39mapi\u001b[39;00m \u001b[39mimport\u001b[39;00m keras\n\u001b[0;32m      9\u001b[0m \u001b[39mfrom\u001b[39;00m \u001b[39mtensorflow\u001b[39;00m\u001b[39m.\u001b[39;00m\u001b[39mpython\u001b[39;00m\u001b[39m.\u001b[39;00m\u001b[39mutil\u001b[39;00m \u001b[39mimport\u001b[39;00m module_wrapper \u001b[39mas\u001b[39;00m _module_wrapper\n\u001b[0;32m     11\u001b[0m \u001b[39mif\u001b[39;00m \u001b[39mnot\u001b[39;00m \u001b[39misinstance\u001b[39m(_sys\u001b[39m.\u001b[39mmodules[\u001b[39m__name__\u001b[39m], _module_wrapper\u001b[39m.\u001b[39mTFModuleWrapper):\n",
            "File \u001b[1;32mc:\\Users\\Rithuraj\\AppData\\Local\\Programs\\Python\\Python38\\lib\\site-packages\\keras\\api\\keras\\__init__.py:15\u001b[0m\n\u001b[0;32m     13\u001b[0m \u001b[39mfrom\u001b[39;00m \u001b[39mkeras\u001b[39;00m\u001b[39m.\u001b[39;00m\u001b[39mapi\u001b[39;00m\u001b[39m.\u001b[39;00m\u001b[39mkeras\u001b[39;00m \u001b[39mimport\u001b[39;00m __internal__\n\u001b[0;32m     14\u001b[0m \u001b[39mfrom\u001b[39;00m \u001b[39mkeras\u001b[39;00m\u001b[39m.\u001b[39;00m\u001b[39mapi\u001b[39;00m\u001b[39m.\u001b[39;00m\u001b[39mkeras\u001b[39;00m \u001b[39mimport\u001b[39;00m activations\n\u001b[1;32m---> 15\u001b[0m \u001b[39mfrom\u001b[39;00m \u001b[39mkeras\u001b[39;00m\u001b[39m.\u001b[39;00m\u001b[39mapi\u001b[39;00m\u001b[39m.\u001b[39;00m\u001b[39mkeras\u001b[39;00m \u001b[39mimport\u001b[39;00m applications\n\u001b[0;32m     16\u001b[0m \u001b[39mfrom\u001b[39;00m \u001b[39mkeras\u001b[39;00m\u001b[39m.\u001b[39;00m\u001b[39mapi\u001b[39;00m\u001b[39m.\u001b[39;00m\u001b[39mkeras\u001b[39;00m \u001b[39mimport\u001b[39;00m backend\n\u001b[0;32m     17\u001b[0m \u001b[39mfrom\u001b[39;00m \u001b[39mkeras\u001b[39;00m\u001b[39m.\u001b[39;00m\u001b[39mapi\u001b[39;00m\u001b[39m.\u001b[39;00m\u001b[39mkeras\u001b[39;00m \u001b[39mimport\u001b[39;00m callbacks\n",
            "File \u001b[1;32mc:\\Users\\Rithuraj\\AppData\\Local\\Programs\\Python\\Python38\\lib\\site-packages\\keras\\api\\keras\\applications\\__init__.py:13\u001b[0m\n\u001b[0;32m     11\u001b[0m \u001b[39mfrom\u001b[39;00m \u001b[39mkeras\u001b[39;00m\u001b[39m.\u001b[39;00m\u001b[39mapi\u001b[39;00m\u001b[39m.\u001b[39;00m\u001b[39mkeras\u001b[39;00m\u001b[39m.\u001b[39;00m\u001b[39mapplications\u001b[39;00m \u001b[39mimport\u001b[39;00m efficientnet_v2\n\u001b[0;32m     12\u001b[0m \u001b[39mfrom\u001b[39;00m \u001b[39mkeras\u001b[39;00m\u001b[39m.\u001b[39;00m\u001b[39mapi\u001b[39;00m\u001b[39m.\u001b[39;00m\u001b[39mkeras\u001b[39;00m\u001b[39m.\u001b[39;00m\u001b[39mapplications\u001b[39;00m \u001b[39mimport\u001b[39;00m imagenet_utils\n\u001b[1;32m---> 13\u001b[0m \u001b[39mfrom\u001b[39;00m \u001b[39mkeras\u001b[39;00m\u001b[39m.\u001b[39;00m\u001b[39mapi\u001b[39;00m\u001b[39m.\u001b[39;00m\u001b[39mkeras\u001b[39;00m\u001b[39m.\u001b[39;00m\u001b[39mapplications\u001b[39;00m \u001b[39mimport\u001b[39;00m inception_resnet_v2\n\u001b[0;32m     14\u001b[0m \u001b[39mfrom\u001b[39;00m \u001b[39mkeras\u001b[39;00m\u001b[39m.\u001b[39;00m\u001b[39mapi\u001b[39;00m\u001b[39m.\u001b[39;00m\u001b[39mkeras\u001b[39;00m\u001b[39m.\u001b[39;00m\u001b[39mapplications\u001b[39;00m \u001b[39mimport\u001b[39;00m inception_v3\n\u001b[0;32m     15\u001b[0m \u001b[39mfrom\u001b[39;00m \u001b[39mkeras\u001b[39;00m\u001b[39m.\u001b[39;00m\u001b[39mapi\u001b[39;00m\u001b[39m.\u001b[39;00m\u001b[39mkeras\u001b[39;00m\u001b[39m.\u001b[39;00m\u001b[39mapplications\u001b[39;00m \u001b[39mimport\u001b[39;00m mobilenet\n",
            "File \u001b[1;32mc:\\Users\\Rithuraj\\AppData\\Local\\Programs\\Python\\Python38\\lib\\site-packages\\keras\\api\\keras\\applications\\inception_resnet_v2\\__init__.py:14\u001b[0m\n\u001b[0;32m      3\u001b[0m \u001b[39m\"\"\"Inception-ResNet V2 model for Keras.\u001b[39;00m\n\u001b[0;32m      4\u001b[0m \n\u001b[0;32m      5\u001b[0m \u001b[39mReference:\u001b[39;00m\n\u001b[1;32m   (...)\u001b[0m\n\u001b[0;32m      9\u001b[0m \n\u001b[0;32m     10\u001b[0m \u001b[39m\"\"\"\u001b[39;00m\n\u001b[0;32m     12\u001b[0m \u001b[39mimport\u001b[39;00m \u001b[39msys\u001b[39;00m \u001b[39mas\u001b[39;00m \u001b[39m_sys\u001b[39;00m\n\u001b[1;32m---> 14\u001b[0m \u001b[39mfrom\u001b[39;00m \u001b[39mkeras\u001b[39;00m\u001b[39m.\u001b[39;00m\u001b[39mapplications\u001b[39;00m\u001b[39m.\u001b[39;00m\u001b[39minception_resnet_v2\u001b[39;00m \u001b[39mimport\u001b[39;00m InceptionResNetV2\n\u001b[0;32m     15\u001b[0m \u001b[39mfrom\u001b[39;00m \u001b[39mkeras\u001b[39;00m\u001b[39m.\u001b[39;00m\u001b[39mapplications\u001b[39;00m\u001b[39m.\u001b[39;00m\u001b[39minception_resnet_v2\u001b[39;00m \u001b[39mimport\u001b[39;00m decode_predictions\n\u001b[0;32m     16\u001b[0m \u001b[39mfrom\u001b[39;00m \u001b[39mkeras\u001b[39;00m\u001b[39m.\u001b[39;00m\u001b[39mapplications\u001b[39;00m\u001b[39m.\u001b[39;00m\u001b[39minception_resnet_v2\u001b[39;00m \u001b[39mimport\u001b[39;00m preprocess_input\n",
            "File \u001b[1;32mc:\\Users\\Rithuraj\\AppData\\Local\\Programs\\Python\\Python38\\lib\\site-packages\\keras\\applications\\__init__.py:41\u001b[0m\n\u001b[0;32m     39\u001b[0m \u001b[39mfrom\u001b[39;00m \u001b[39mkeras\u001b[39;00m\u001b[39m.\u001b[39;00m\u001b[39mapplications\u001b[39;00m\u001b[39m.\u001b[39;00m\u001b[39mefficientnet_v2\u001b[39;00m \u001b[39mimport\u001b[39;00m EfficientNetV2M\n\u001b[0;32m     40\u001b[0m \u001b[39mfrom\u001b[39;00m \u001b[39mkeras\u001b[39;00m\u001b[39m.\u001b[39;00m\u001b[39mapplications\u001b[39;00m\u001b[39m.\u001b[39;00m\u001b[39mefficientnet_v2\u001b[39;00m \u001b[39mimport\u001b[39;00m EfficientNetV2S\n\u001b[1;32m---> 41\u001b[0m \u001b[39mfrom\u001b[39;00m \u001b[39mkeras\u001b[39;00m\u001b[39m.\u001b[39;00m\u001b[39mapplications\u001b[39;00m\u001b[39m.\u001b[39;00m\u001b[39minception_resnet_v2\u001b[39;00m \u001b[39mimport\u001b[39;00m InceptionResNetV2\n\u001b[0;32m     42\u001b[0m \u001b[39mfrom\u001b[39;00m \u001b[39mkeras\u001b[39;00m\u001b[39m.\u001b[39;00m\u001b[39mapplications\u001b[39;00m\u001b[39m.\u001b[39;00m\u001b[39minception_v3\u001b[39;00m \u001b[39mimport\u001b[39;00m InceptionV3\n\u001b[0;32m     43\u001b[0m \u001b[39mfrom\u001b[39;00m \u001b[39mkeras\u001b[39;00m\u001b[39m.\u001b[39;00m\u001b[39mapplications\u001b[39;00m\u001b[39m.\u001b[39;00m\u001b[39mmobilenet\u001b[39;00m \u001b[39mimport\u001b[39;00m MobileNet\n",
            "File \u001b[1;32mc:\\Users\\Rithuraj\\AppData\\Local\\Programs\\Python\\Python38\\lib\\site-packages\\keras\\applications\\inception_resnet_v2.py:324\u001b[0m\n\u001b[0;32m    320\u001b[0m         x \u001b[39m=\u001b[39m layers\u001b[39m.\u001b[39mActivation(activation, name\u001b[39m=\u001b[39mac_name)(x)\n\u001b[0;32m    321\u001b[0m     \u001b[39mreturn\u001b[39;00m x\n\u001b[1;32m--> 324\u001b[0m \u001b[39m@keras\u001b[39m\u001b[39m.\u001b[39;49mutils\u001b[39m.\u001b[39mregister_keras_serializable()\n\u001b[0;32m    325\u001b[0m \u001b[39mclass\u001b[39;00m \u001b[39mCustomScaleLayer\u001b[39;00m(keras_layers\u001b[39m.\u001b[39mLayer):\n\u001b[0;32m    326\u001b[0m     \u001b[39mdef\u001b[39;00m \u001b[39m__init__\u001b[39m(\u001b[39mself\u001b[39m, scale, \u001b[39m*\u001b[39m\u001b[39m*\u001b[39mkwargs):\n\u001b[0;32m    327\u001b[0m         \u001b[39msuper\u001b[39m()\u001b[39m.\u001b[39m\u001b[39m__init__\u001b[39m(\u001b[39m*\u001b[39m\u001b[39m*\u001b[39mkwargs)\n",
            "\u001b[1;31mAttributeError\u001b[0m: module 'keras' has no attribute 'utils'"
          ]
        }
      ],
      "source": [
        "import tensorflow as tf"
      ]
    },
    {
      "cell_type": "code",
      "execution_count": null,
      "metadata": {
        "id": "_VnM3p0tkO88"
      },
      "outputs": [],
      "source": [
        "model = tf.keras.models.load_model('./models/sonnet_generator.h5')\n",
        "\n",
        "# Generate a sonnet\n",
        "seed_text = \"the love was flowered\"\n",
        "next_words = 10  # Number of words to generate in the sonnet"
      ]
    },
    {
      "cell_type": "code",
      "execution_count": 34,
      "metadata": {
        "colab": {
          "base_uri": "https://localhost:8080/"
        },
        "id": "KYcc-r7aT9zq",
        "outputId": "ba4b69f9-5311-44b8-edff-1522a1d4e89e"
      },
      "outputs": [
        {
          "name": "stdout",
          "output_type": "stream",
          "text": [
            "1/1 [==============================] - 0s 26ms/step\n",
            "1/1 [==============================] - 0s 27ms/step\n",
            "1/1 [==============================] - 0s 25ms/step\n",
            "1/1 [==============================] - 0s 24ms/step\n",
            "1/1 [==============================] - 0s 23ms/step\n",
            "1/1 [==============================] - 0s 25ms/step\n",
            "1/1 [==============================] - 0s 34ms/step\n"
          ]
        }
      ],
      "source": [
        "for _ in range(11 - len(seed_text.split())):\n",
        "    token_list = tokenizer.texts_to_sequences([seed_text])[0]\n",
        "    token_list = pad_sequences([token_list], maxlen=max_sequence_len-1, padding='pre')\n",
        "    predicted = np.argmax(model.predict(token_list), axis=-1)\n",
        "    output_word = \"\"\n",
        "    for word, index in tokenizer.word_index.items():\n",
        "        if index == predicted:\n",
        "            output_word = word\n",
        "            break\n",
        "    seed_text += \" \" + output_word"
      ]
    },
    {
      "cell_type": "code",
      "execution_count": 35,
      "metadata": {
        "colab": {
          "base_uri": "https://localhost:8080/"
        },
        "id": "xkEPZZ6VUAYS",
        "outputId": "ce10aa34-9b7b-4fb7-a929-5f6056df1dd4"
      },
      "outputs": [
        {
          "name": "stdout",
          "output_type": "stream",
          "text": [
            "the love was flowered not a man of the king of\n"
          ]
        }
      ],
      "source": [
        "print(seed_text)"
      ]
    },
    {
      "cell_type": "code",
      "execution_count": 36,
      "metadata": {
        "id": "5uEWZaTjUi-p"
      },
      "outputs": [],
      "source": [
        "model.save('new_model.h5')"
      ]
    },
    {
      "cell_type": "code",
      "execution_count": 38,
      "metadata": {
        "id": "tduSyomVWcWn"
      },
      "outputs": [],
      "source": [
        "# saving\n",
        "with open('tokenizer.pickle', 'wb') as handle:\n",
        "    pickle.dump(tokenizer, handle, protocol=pickle.HIGHEST_PROTOCOL)"
      ]
    },
    {
      "cell_type": "code",
      "execution_count": 39,
      "metadata": {
        "id": "_wwtJMbrWgaF"
      },
      "outputs": [],
      "source": [
        "# loading\n",
        "with open('/content/tokenizer.pickle', 'rb') as handle:\n",
        "    tokenizerLoaded = pickle.load(handle)"
      ]
    },
    {
      "cell_type": "code",
      "execution_count": 40,
      "metadata": {
        "colab": {
          "base_uri": "https://localhost:8080/"
        },
        "id": "xyetSN07W4Ak",
        "outputId": "56651b4c-2a36-4888-8a7e-d811b0688b03"
      },
      "outputs": [
        {
          "data": {
            "text/plain": [
              "163"
            ]
          },
          "execution_count": 40,
          "metadata": {},
          "output_type": "execute_result"
        }
      ],
      "source": [
        "max_sequence_len"
      ]
    },
    {
      "cell_type": "code",
      "execution_count": 93,
      "metadata": {
        "id": "OpFNd_kBUyYL"
      },
      "outputs": [],
      "source": [
        "def generate_sonnet(seed_text):\n",
        "  MAX_SEQ_LEN = 163\n",
        "  for i in range(14):\n",
        "    token_list = tokenizerLoaded.texts_to_sequences([seed_text])[0]\n",
        "    token_list = pad_sequences([token_list], maxlen = MAX_SEQ_LEN-1, padding='pre')\n",
        "    predicted = np.argmax(model.predict(token_list), axis=-1)\n",
        "    output_word = \"\"\n",
        "\n",
        "    for word, index in tokenizer.word_index.items():\n",
        "      if index == predicted:\n",
        "        output_word = word\n",
        "        break\n",
        "    seed_text += \" \" + output_word\n",
        "  return seed_text"
      ]
    },
    {
      "cell_type": "code",
      "execution_count": 98,
      "metadata": {
        "colab": {
          "base_uri": "https://localhost:8080/"
        },
        "id": "zYKsJpdXXxQD",
        "outputId": "de349f63-0213-4298-aac6-118f2248be97"
      },
      "outputs": [
        {
          "name": "stdout",
          "output_type": "stream",
          "text": [
            "1/1 [==============================] - 0s 28ms/step\n",
            "1/1 [==============================] - 0s 24ms/step\n",
            "1/1 [==============================] - 0s 24ms/step\n",
            "1/1 [==============================] - 0s 26ms/step\n",
            "1/1 [==============================] - 0s 27ms/step\n",
            "1/1 [==============================] - 0s 23ms/step\n",
            "1/1 [==============================] - 0s 24ms/step\n",
            "1/1 [==============================] - 0s 26ms/step\n",
            "1/1 [==============================] - 0s 27ms/step\n",
            "1/1 [==============================] - 0s 27ms/step\n",
            "1/1 [==============================] - 0s 28ms/step\n",
            "1/1 [==============================] - 0s 28ms/step\n",
            "1/1 [==============================] - 0s 26ms/step\n",
            "1/1 [==============================] - 0s 25ms/step\n"
          ]
        }
      ],
      "source": [
        "pred1 = generate_sonnet(\"loving beyond\")"
      ]
    },
    {
      "cell_type": "code",
      "execution_count": 99,
      "metadata": {
        "colab": {
          "base_uri": "https://localhost:8080/",
          "height": 35
        },
        "id": "vOUqxWREcX8X",
        "outputId": "36d0fab9-ca7d-4b07-dbee-78517a8effd9"
      },
      "outputs": [
        {
          "data": {
            "application/vnd.google.colaboratory.intrinsic+json": {
              "type": "string"
            },
            "text/plain": [
              "'love to the world and i will tell you what a man is not a'"
            ]
          },
          "execution_count": 99,
          "metadata": {},
          "output_type": "execute_result"
        }
      ],
      "source": [
        "pred"
      ]
    },
    {
      "cell_type": "code",
      "execution_count": 100,
      "metadata": {
        "colab": {
          "base_uri": "https://localhost:8080/",
          "height": 35
        },
        "id": "idLOLbvAck58",
        "outputId": "1c2c659b-4a76-49f5-d268-980ec419f70d"
      },
      "outputs": [
        {
          "data": {
            "application/vnd.google.colaboratory.intrinsic+json": {
              "type": "string"
            },
            "text/plain": [
              "'loving beyond the world and i will be a little of the world and i am'"
            ]
          },
          "execution_count": 100,
          "metadata": {},
          "output_type": "execute_result"
        }
      ],
      "source": [
        "pred1"
      ]
    },
    {
      "cell_type": "code",
      "execution_count": null,
      "metadata": {
        "id": "7VhI2mm5cxhK"
      },
      "outputs": [],
      "source": []
    }
  ],
  "metadata": {
    "accelerator": "GPU",
    "colab": {
      "gpuType": "T4",
      "provenance": []
    },
    "gpuClass": "standard",
    "kernelspec": {
      "display_name": "Python 3.8.0 64-bit",
      "language": "python",
      "name": "python3"
    },
    "language_info": {
      "codemirror_mode": {
        "name": "ipython",
        "version": 3
      },
      "file_extension": ".py",
      "mimetype": "text/x-python",
      "name": "python",
      "nbconvert_exporter": "python",
      "pygments_lexer": "ipython3",
      "version": "3.8.10"
    },
    "orig_nbformat": 4,
    "vscode": {
      "interpreter": {
        "hash": "cd2ccc147b25bc63e03b8c2078329f48b3831a7ce96f0169912c1ccdf48e1006"
      }
    }
  },
  "nbformat": 4,
  "nbformat_minor": 0
}
