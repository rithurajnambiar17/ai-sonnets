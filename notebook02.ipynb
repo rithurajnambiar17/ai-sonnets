{
  "cells": [
    {
      "cell_type": "code",
      "execution_count": 37,
      "metadata": {
        "id": "BGOoJlj2kO8n"
      },
      "outputs": [],
      "source": [
        "import re\n",
        "import pickle\n",
        "import numpy as np\n",
        "import tensorflow as tf\n",
        "from tensorflow.keras.preprocessing.text import Tokenizer\n",
        "from tensorflow.keras.preprocessing.sequence import pad_sequences"
      ]
    },
    {
      "cell_type": "code",
      "execution_count": 2,
      "metadata": {
        "id": "bW1jUFXLkO8s"
      },
      "outputs": [],
      "source": [
        "# Load and preprocess sonnet data\n",
        "sonnet_data = \"\"\n",
        "with open(\"/content/Sonnet.txt\", \"r\") as file:\n",
        "    sonnet_data = file.read()\n",
        "\n",
        "sonnets = sonnet_data.split(\"\\n\\n\")  # Split sonnets based on double lines\n"
      ]
    },
    {
      "cell_type": "code",
      "execution_count": 3,
      "metadata": {
        "id": "fTdXtDRDkO8t"
      },
      "outputs": [],
      "source": [
        "# Load and preprocess play data\n",
        "play_data = \"\"\n",
        "with open(\"/content/alllines.txt\", \"r\") as file:\n",
        "    play_data = file.read()\n",
        "\n",
        "play_dialogues = play_data.split(\"\\n\")  # Split dialogues based on new lines\n"
      ]
    },
    {
      "cell_type": "code",
      "execution_count": 4,
      "metadata": {
        "id": "n17iLCGikO8v"
      },
      "outputs": [],
      "source": [
        "def remove_words_with_symbols(text):\n",
        "    '''\n",
        "    Removes words with symbols from text\n",
        "    '''\n",
        "    pattern = r'\\b\\w*[^a-zA-Z0-9\\s]\\w*\\b'\n",
        "    clean_text = re.sub(pattern, '', text)\n",
        "    return clean_text\n",
        "\n",
        "def remove_inverted_commas(text):\n",
        "    '''\n",
        "    Removes inverted commas from text\n",
        "    '''\n",
        "    pattern = r'^\"|\"$'\n",
        "    clean_text = re.sub(pattern, '', text, flags=re.MULTILINE)\n",
        "    return clean_text\n",
        "\n",
        "def remove_punctuation(text):\n",
        "    '''\n",
        "    Removes punctuation from text\n",
        "    '''\n",
        "    pattern = r'[^\\w\\s]'\n",
        "    clean_text = re.sub(pattern, '', text)\n",
        "    return clean_text\n",
        "\n",
        "def convert_to_lower(text):\n",
        "    '''\n",
        "    Converts text to lower case\n",
        "    '''\n",
        "    return text.lower()"
      ]
    },
    {
      "cell_type": "code",
      "execution_count": 5,
      "metadata": {
        "id": "DOCf3DGfkO8w"
      },
      "outputs": [],
      "source": [
        "for i in range(len(sonnets)):\n",
        "    sonnets[i] = remove_words_with_symbols(sonnets[i])"
      ]
    },
    {
      "cell_type": "code",
      "execution_count": 6,
      "metadata": {
        "id": "tbSi3f77kO8x"
      },
      "outputs": [],
      "source": [
        "for i in range(len(play_dialogues)):\n",
        "    play_dialogues[i] = remove_inverted_commas(play_dialogues[i])"
      ]
    },
    {
      "cell_type": "code",
      "execution_count": 7,
      "metadata": {
        "id": "UUt8q1jGkO8y"
      },
      "outputs": [],
      "source": [
        "for i in range(len(play_dialogues)):\n",
        "    play_dialogues[i] = remove_punctuation(play_dialogues[i])\n",
        "\n",
        "for i in range(len(sonnets)):\n",
        "    sonnets[i] = remove_punctuation(sonnets[i])"
      ]
    },
    {
      "cell_type": "code",
      "execution_count": 8,
      "metadata": {
        "id": "MVPnYlKwkO8z"
      },
      "outputs": [],
      "source": [
        "for i in range(len(play_dialogues)):\n",
        "    play_dialogues[i] = convert_to_lower(play_dialogues[i])\n",
        "\n",
        "for i in range(len(sonnets)):\n",
        "    sonnets[i] = convert_to_lower(sonnets[i])"
      ]
    },
    {
      "cell_type": "code",
      "execution_count": 9,
      "metadata": {
        "id": "YnFLpGrfkO80"
      },
      "outputs": [],
      "source": [
        "# Combine sonnet and play data\n",
        "combined_data = sonnets + play_dialogues"
      ]
    },
    {
      "cell_type": "code",
      "execution_count": 10,
      "metadata": {
        "id": "d9ZdbZRFkO81"
      },
      "outputs": [],
      "source": [
        "# Tokenize the text\n",
        "tokenizer = Tokenizer()\n",
        "tokenizer.fit_on_texts(combined_data)\n",
        "total_words = len(tokenizer.word_index) + 1"
      ]
    },
    {
      "cell_type": "code",
      "execution_count": 11,
      "metadata": {
        "id": "ziCVgixAkO82"
      },
      "outputs": [],
      "source": [
        "# Generate input sequences\n",
        "input_sequences = []\n",
        "for line in combined_data:\n",
        "    token_list = tokenizer.texts_to_sequences([line])[0]\n",
        "    for i in range(1, len(token_list)):\n",
        "        n_gram_sequence = token_list[:i+1]\n",
        "        input_sequences.append(n_gram_sequence)"
      ]
    },
    {
      "cell_type": "code",
      "execution_count": 12,
      "metadata": {
        "id": "P3WIadLlkO83"
      },
      "outputs": [],
      "source": [
        "# Pad sequences\n",
        "max_sequence_len = max([len(x) for x in input_sequences])\n",
        "input_sequences = pad_sequences(input_sequences, maxlen=max_sequence_len, padding='pre')"
      ]
    },
    {
      "cell_type": "code",
      "execution_count": 13,
      "metadata": {
        "id": "PQI_2sMkkO83"
      },
      "outputs": [],
      "source": [
        "# Split input sequences into input and output\n",
        "input_sequences = tf.keras.preprocessing.sequence.pad_sequences(input_sequences)\n",
        "xs, labels = input_sequences[:, :-1], input_sequences[:, -1]"
      ]
    },
    {
      "cell_type": "code",
      "execution_count": 14,
      "metadata": {
        "id": "pITQ6N85kO84"
      },
      "outputs": [],
      "source": [
        "# Define the model\n",
        "model = tf.keras.Sequential([\n",
        "    tf.keras.layers.Embedding(total_words, 100, input_length=max_sequence_len-1),\n",
        "    # tf.keras.layers.Bidirectional(tf.keras.layers.LSTM(150, return_sequences=True)),\n",
        "    tf.keras.layers.LSTM(150, return_sequences=True),\n",
        "    tf.keras.layers.Dropout(0.2),\n",
        "    tf.keras.layers.LSTM(100),\n",
        "    tf.keras.layers.Dense(total_words/2, activation='relu'),\n",
        "    tf.keras.layers.Dense(total_words, activation='softmax')\n",
        "])"
      ]
    },
    {
      "cell_type": "code",
      "execution_count": 15,
      "metadata": {
        "id": "HmYYly9WkO85"
      },
      "outputs": [],
      "source": [
        "# Compile the model\n",
        "model.compile(loss='sparse_categorical_crossentropy', optimizer='adam', metrics=['accuracy'])"
      ]
    },
    {
      "cell_type": "code",
      "execution_count": 16,
      "metadata": {
        "colab": {
          "base_uri": "https://localhost:8080/"
        },
        "id": "ilflhglIkO86",
        "outputId": "ca4bb637-3314-4135-c6b6-2c31f4ffbf34"
      },
      "outputs": [
        {
          "output_type": "stream",
          "name": "stdout",
          "text": [
            "Epoch 1/10\n",
            "15608/15608 [==============================] - 1199s 76ms/step - loss: 6.6089 - accuracy: 0.0633\n",
            "Epoch 2/10\n",
            "15608/15608 [==============================] - 1154s 74ms/step - loss: 6.2089 - accuracy: 0.0919\n",
            "Epoch 3/10\n",
            "15608/15608 [==============================] - 1150s 74ms/step - loss: 6.0274 - accuracy: 0.1010\n",
            "Epoch 4/10\n",
            "15608/15608 [==============================] - 1150s 74ms/step - loss: 5.9056 - accuracy: 0.1074\n",
            "Epoch 5/10\n",
            "15608/15608 [==============================] - 1148s 74ms/step - loss: 5.8137 - accuracy: 0.1124\n",
            "Epoch 6/10\n",
            "15608/15608 [==============================] - 1147s 73ms/step - loss: 5.7372 - accuracy: 0.1160\n",
            "Epoch 7/10\n",
            "15608/15608 [==============================] - 1148s 74ms/step - loss: 5.6663 - accuracy: 0.1196\n",
            "Epoch 8/10\n",
            "15608/15608 [==============================] - 1147s 73ms/step - loss: 5.6001 - accuracy: 0.1231\n",
            "Epoch 9/10\n",
            "15608/15608 [==============================] - 1147s 73ms/step - loss: 5.5355 - accuracy: 0.1257\n",
            "Epoch 10/10\n",
            "15608/15608 [==============================] - 1150s 74ms/step - loss: 5.4750 - accuracy: 0.1290\n"
          ]
        }
      ],
      "source": [
        "# Train the model\n",
        "history = model.fit(xs, labels, epochs=10)"
      ]
    },
    {
      "cell_type": "code",
      "execution_count": 33,
      "metadata": {
        "id": "_VnM3p0tkO88"
      },
      "outputs": [],
      "source": [
        "# Generate a sonnet\n",
        "seed_text = \"the love was flowered\"\n",
        "next_words = 10  # Number of words to generate in the sonnet"
      ]
    },
    {
      "cell_type": "code",
      "source": [
        "for _ in range(11 - len(seed_text.split())):\n",
        "    token_list = tokenizer.texts_to_sequences([seed_text])[0]\n",
        "    token_list = pad_sequences([token_list], maxlen=max_sequence_len-1, padding='pre')\n",
        "    predicted = np.argmax(model.predict(token_list), axis=-1)\n",
        "    output_word = \"\"\n",
        "    for word, index in tokenizer.word_index.items():\n",
        "        if index == predicted:\n",
        "            output_word = word\n",
        "            break\n",
        "    seed_text += \" \" + output_word"
      ],
      "metadata": {
        "colab": {
          "base_uri": "https://localhost:8080/"
        },
        "id": "KYcc-r7aT9zq",
        "outputId": "ba4b69f9-5311-44b8-edff-1522a1d4e89e"
      },
      "execution_count": 34,
      "outputs": [
        {
          "output_type": "stream",
          "name": "stdout",
          "text": [
            "1/1 [==============================] - 0s 26ms/step\n",
            "1/1 [==============================] - 0s 27ms/step\n",
            "1/1 [==============================] - 0s 25ms/step\n",
            "1/1 [==============================] - 0s 24ms/step\n",
            "1/1 [==============================] - 0s 23ms/step\n",
            "1/1 [==============================] - 0s 25ms/step\n",
            "1/1 [==============================] - 0s 34ms/step\n"
          ]
        }
      ]
    },
    {
      "cell_type": "code",
      "source": [
        "print(seed_text)"
      ],
      "metadata": {
        "colab": {
          "base_uri": "https://localhost:8080/"
        },
        "id": "xkEPZZ6VUAYS",
        "outputId": "ce10aa34-9b7b-4fb7-a929-5f6056df1dd4"
      },
      "execution_count": 35,
      "outputs": [
        {
          "output_type": "stream",
          "name": "stdout",
          "text": [
            "the love was flowered not a man of the king of\n"
          ]
        }
      ]
    },
    {
      "cell_type": "code",
      "source": [
        "model.save('new_model.h5')"
      ],
      "metadata": {
        "id": "5uEWZaTjUi-p"
      },
      "execution_count": 36,
      "outputs": []
    },
    {
      "cell_type": "code",
      "source": [
        "# saving\n",
        "with open('tokenizer.pickle', 'wb') as handle:\n",
        "    pickle.dump(tokenizer, handle, protocol=pickle.HIGHEST_PROTOCOL)"
      ],
      "metadata": {
        "id": "tduSyomVWcWn"
      },
      "execution_count": 38,
      "outputs": []
    },
    {
      "cell_type": "code",
      "source": [
        "# loading\n",
        "with open('/content/tokenizer.pickle', 'rb') as handle:\n",
        "    tokenizerLoaded = pickle.load(handle)"
      ],
      "metadata": {
        "id": "_wwtJMbrWgaF"
      },
      "execution_count": 39,
      "outputs": []
    },
    {
      "cell_type": "code",
      "source": [
        "max_sequence_len"
      ],
      "metadata": {
        "colab": {
          "base_uri": "https://localhost:8080/"
        },
        "id": "xyetSN07W4Ak",
        "outputId": "56651b4c-2a36-4888-8a7e-d811b0688b03"
      },
      "execution_count": 40,
      "outputs": [
        {
          "output_type": "execute_result",
          "data": {
            "text/plain": [
              "163"
            ]
          },
          "metadata": {},
          "execution_count": 40
        }
      ]
    },
    {
      "cell_type": "code",
      "source": [
        "def generate_sonnet(seed_text):\n",
        "  MAX_SEQ_LEN = 163\n",
        "  for i in range(14):\n",
        "    token_list = tokenizerLoaded.texts_to_sequences([seed_text])[0]\n",
        "    token_list = pad_sequences([token_list], maxlen = MAX_SEQ_LEN-1, padding='pre')\n",
        "    predicted = np.argmax(model.predict(token_list), axis=-1)\n",
        "    output_word = \"\"\n",
        "\n",
        "    for word, index in tokenizer.word_index.items():\n",
        "      if index == predicted:\n",
        "        output_word = word\n",
        "        break\n",
        "    seed_text += \" \" + output_word\n",
        "  return seed_text"
      ],
      "metadata": {
        "id": "OpFNd_kBUyYL"
      },
      "execution_count": 93,
      "outputs": []
    },
    {
      "cell_type": "code",
      "source": [
        "pred1 = generate_sonnet(\"loving beyond\")"
      ],
      "metadata": {
        "colab": {
          "base_uri": "https://localhost:8080/"
        },
        "id": "zYKsJpdXXxQD",
        "outputId": "de349f63-0213-4298-aac6-118f2248be97"
      },
      "execution_count": 98,
      "outputs": [
        {
          "output_type": "stream",
          "name": "stdout",
          "text": [
            "1/1 [==============================] - 0s 28ms/step\n",
            "1/1 [==============================] - 0s 24ms/step\n",
            "1/1 [==============================] - 0s 24ms/step\n",
            "1/1 [==============================] - 0s 26ms/step\n",
            "1/1 [==============================] - 0s 27ms/step\n",
            "1/1 [==============================] - 0s 23ms/step\n",
            "1/1 [==============================] - 0s 24ms/step\n",
            "1/1 [==============================] - 0s 26ms/step\n",
            "1/1 [==============================] - 0s 27ms/step\n",
            "1/1 [==============================] - 0s 27ms/step\n",
            "1/1 [==============================] - 0s 28ms/step\n",
            "1/1 [==============================] - 0s 28ms/step\n",
            "1/1 [==============================] - 0s 26ms/step\n",
            "1/1 [==============================] - 0s 25ms/step\n"
          ]
        }
      ]
    },
    {
      "cell_type": "code",
      "source": [
        "pred"
      ],
      "metadata": {
        "colab": {
          "base_uri": "https://localhost:8080/",
          "height": 35
        },
        "id": "vOUqxWREcX8X",
        "outputId": "36d0fab9-ca7d-4b07-dbee-78517a8effd9"
      },
      "execution_count": 99,
      "outputs": [
        {
          "output_type": "execute_result",
          "data": {
            "text/plain": [
              "'love to the world and i will tell you what a man is not a'"
            ],
            "application/vnd.google.colaboratory.intrinsic+json": {
              "type": "string"
            }
          },
          "metadata": {},
          "execution_count": 99
        }
      ]
    },
    {
      "cell_type": "code",
      "source": [
        "pred1"
      ],
      "metadata": {
        "colab": {
          "base_uri": "https://localhost:8080/",
          "height": 35
        },
        "id": "idLOLbvAck58",
        "outputId": "1c2c659b-4a76-49f5-d268-980ec419f70d"
      },
      "execution_count": 100,
      "outputs": [
        {
          "output_type": "execute_result",
          "data": {
            "text/plain": [
              "'loving beyond the world and i will be a little of the world and i am'"
            ],
            "application/vnd.google.colaboratory.intrinsic+json": {
              "type": "string"
            }
          },
          "metadata": {},
          "execution_count": 100
        }
      ]
    },
    {
      "cell_type": "code",
      "source": [],
      "metadata": {
        "id": "7VhI2mm5cxhK"
      },
      "execution_count": null,
      "outputs": []
    }
  ],
  "metadata": {
    "kernelspec": {
      "display_name": "Python 3.8.0 64-bit",
      "language": "python",
      "name": "python3"
    },
    "language_info": {
      "codemirror_mode": {
        "name": "ipython",
        "version": 3
      },
      "file_extension": ".py",
      "mimetype": "text/x-python",
      "name": "python",
      "nbconvert_exporter": "python",
      "pygments_lexer": "ipython3",
      "version": "3.8.0"
    },
    "orig_nbformat": 4,
    "vscode": {
      "interpreter": {
        "hash": "cd2ccc147b25bc63e03b8c2078329f48b3831a7ce96f0169912c1ccdf48e1006"
      }
    },
    "colab": {
      "provenance": [],
      "gpuType": "T4"
    },
    "accelerator": "GPU",
    "gpuClass": "standard"
  },
  "nbformat": 4,
  "nbformat_minor": 0
}