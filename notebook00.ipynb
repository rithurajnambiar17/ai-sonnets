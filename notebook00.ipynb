{
 "cells": [
  {
   "cell_type": "code",
   "execution_count": 4,
   "metadata": {},
   "outputs": [],
   "source": [
    "import pandas as pd\n",
    "import tensorflow as tf"
   ]
  },
  {
   "cell_type": "code",
   "execution_count": 1,
   "metadata": {},
   "outputs": [],
   "source": [
    "with open('./data/Sonnet.txt', 'r') as file:\n",
    "    sonnets = file.read()"
   ]
  },
  {
   "cell_type": "code",
   "execution_count": 2,
   "metadata": {},
   "outputs": [],
   "source": [
    "sonnets = sonnets.replace('\\n', ' ').replace('\\r', '')\n",
    "sonnets = sonnets.split('\\n\\n')"
   ]
  },
  {
   "cell_type": "code",
   "execution_count": 5,
   "metadata": {},
   "outputs": [],
   "source": [
    "tokenizer = tf.keras.preprocessing.text.Tokenizer()\n",
    "tokenizer.fit_on_texts(sonnets)\n",
    "sequences = tokenizer.texts_to_sequences(sonnets)\n",
    "vocab_size = len(tokenizer.word_index) + 1\n",
    "max_length = max([len(seq) for seq in sequences])\n",
    "padded_sequences = tf.keras.preprocessing.sequence.pad_sequences(sequences, maxlen=max_length, padding='post')"
   ]
  },
  {
   "cell_type": "code",
   "execution_count": 6,
   "metadata": {},
   "outputs": [],
   "source": [
    "latent_dim = 100\n",
    "\n",
    "generator = tf.keras.models.Sequential()\n",
    "generator.add(tf.keras.layers.Dense(256, input_dim=latent_dim, activation='leaky_relu'))\n",
    "generator.add(tf.keras.layers.Dense(512, activation = 'leaky_relu'))\n",
    "generator.add(tf.keras.layers.Dense(1024, activation='leaky_relu'))\n",
    "generator.add(tf.keras.layers.Dense(vocab_size, activation='softmax'))"
   ]
  },
  {
   "cell_type": "code",
   "execution_count": 7,
   "metadata": {},
   "outputs": [],
   "source": [
    "discriminator = tf.keras.models.Sequential()\n",
    "discriminator.add(tf.keras.layers.Embedding(vocab_size, 100, input_length=max_length))\n",
    "discriminator.add(tf.keras.layers.Conv1D(64, 8, padding='same', activation='leaky_relu'))\n",
    "discriminator.add(tf.keras.layers.Conv1D(128, 8, padding='same', activation='leaky_relu'))\n",
    "discriminator.add(tf.keras.layers.MaxPooling1D())\n",
    "discriminator.add(tf.keras.layers.Conv1D(128, 8, padding='same', activation='leaky_relu'))\n",
    "discriminator.add(tf.keras.layers.Conv1D(256, 8, padding='same', activation='leaky_relu'))\n",
    "discriminator.add(tf.keras.layers.MaxPooling1D())\n",
    "discriminator.add(tf.keras.layers.Flatten())\n",
    "discriminator.add(tf.keras.layers.Dense(1, activation='sigmoid'))\n"
   ]
  },
  {
   "cell_type": "code",
   "execution_count": null,
   "metadata": {},
   "outputs": [],
   "source": [
    "discriminator.compile(loss='binary_crossentropy', optimizer='adam', metrics=['accuracy'])\n",
    "discriminator.trainable = False\n",
    "gan_input = Input(shape=(latent_dim,))\n",
    "generated_sonnet = generator(gan_input)\n",
    "gan_output = discriminator(generated_sonnet)\n",
    "gan = Model(gan_input, gan_output)\n",
    "gan.compile(loss='binary_crossentropy"
   ]
  }
 ],
 "metadata": {
  "kernelspec": {
   "display_name": "Python 3.8.0 64-bit",
   "language": "python",
   "name": "python3"
  },
  "language_info": {
   "codemirror_mode": {
    "name": "ipython",
    "version": 3
   },
   "file_extension": ".py",
   "mimetype": "text/x-python",
   "name": "python",
   "nbconvert_exporter": "python",
   "pygments_lexer": "ipython3",
   "version": "3.8.0"
  },
  "orig_nbformat": 4,
  "vscode": {
   "interpreter": {
    "hash": "cd2ccc147b25bc63e03b8c2078329f48b3831a7ce96f0169912c1ccdf48e1006"
   }
  }
 },
 "nbformat": 4,
 "nbformat_minor": 2
}
