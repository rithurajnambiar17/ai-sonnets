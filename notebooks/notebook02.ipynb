{
  "cells": [
    {
      "cell_type": "code",
      "execution_count": 1,
      "metadata": {
        "id": "BGOoJlj2kO8n"
      },
      "outputs": [],
      "source": [
        "import re\n",
        "import pickle\n",
        "import numpy as np\n",
        "import tensorflow as tf\n",
        "from tensorflow.keras.preprocessing.text import Tokenizer\n",
        "from tensorflow.keras.preprocessing.sequence import pad_sequences"
      ]
    },
    {
      "cell_type": "code",
      "execution_count": 17,
      "metadata": {
        "id": "bW1jUFXLkO8s"
      },
      "outputs": [],
      "source": [
        "# Load and preprocess sonnet data\n",
        "sonnet_data = \"\"\n",
        "with open(\"../data/sonnet_data/Sonnet.txt\", \"r\") as file:\n",
        "    sonnet_data = file.read()\n",
        "\n",
        "sonnets = sonnet_data.split(\"\\n\\n\")  # Split sonnets based on double lines\n"
      ]
    },
    {
      "cell_type": "code",
      "execution_count": 3,
      "metadata": {
        "id": "fTdXtDRDkO8t"
      },
      "outputs": [],
      "source": [
        "# Load and preprocess play data\n",
        "play_data = \"\"\n",
        "with open(\"../data/plays_data/alllines.txt\", \"r\") as file:\n",
        "    play_data = file.read()\n",
        "\n",
        "play_dialogues = play_data.split(\"\\n\")  # Split dialogues based on new lines\n"
      ]
    },
    {
      "cell_type": "code",
      "execution_count": 4,
      "metadata": {
        "id": "n17iLCGikO8v"
      },
      "outputs": [],
      "source": [
        "def remove_words_with_symbols(text):\n",
        "    '''\n",
        "    Removes words with symbols from text\n",
        "    '''\n",
        "    pattern = r'\\b\\w*[^a-zA-Z0-9\\s]\\w*\\b'\n",
        "    clean_text = re.sub(pattern, '', text)\n",
        "    return clean_text\n",
        "\n",
        "def remove_inverted_commas(text):\n",
        "    '''\n",
        "    Removes inverted commas from text\n",
        "    '''\n",
        "    pattern = r'^\"|\"$'\n",
        "    clean_text = re.sub(pattern, '', text, flags=re.MULTILINE)\n",
        "    return clean_text\n",
        "\n",
        "def remove_punctuation(text):\n",
        "    '''\n",
        "    Removes punctuation from text\n",
        "    '''\n",
        "    pattern = r'[^\\w\\s]'\n",
        "    clean_text = re.sub(pattern, '', text)\n",
        "    return clean_text\n",
        "\n",
        "def convert_to_lower(text):\n",
        "    '''\n",
        "    Converts text to lower case\n",
        "    '''\n",
        "    return text.lower()"
      ]
    },
    {
      "cell_type": "code",
      "execution_count": 5,
      "metadata": {
        "id": "DOCf3DGfkO8w"
      },
      "outputs": [],
      "source": [
        "for i in range(len(sonnets)):\n",
        "    sonnets[i] = remove_words_with_symbols(sonnets[i])"
      ]
    },
    {
      "cell_type": "code",
      "execution_count": 6,
      "metadata": {
        "id": "tbSi3f77kO8x"
      },
      "outputs": [],
      "source": [
        "for i in range(len(play_dialogues)):\n",
        "    play_dialogues[i] = remove_inverted_commas(play_dialogues[i])"
      ]
    },
    {
      "cell_type": "code",
      "execution_count": 7,
      "metadata": {
        "id": "UUt8q1jGkO8y"
      },
      "outputs": [],
      "source": [
        "for i in range(len(play_dialogues)):\n",
        "    play_dialogues[i] = remove_punctuation(play_dialogues[i])\n",
        "\n",
        "for i in range(len(sonnets)):\n",
        "    sonnets[i] = remove_punctuation(sonnets[i])"
      ]
    },
    {
      "cell_type": "code",
      "execution_count": 8,
      "metadata": {
        "id": "MVPnYlKwkO8z"
      },
      "outputs": [],
      "source": [
        "for i in range(len(play_dialogues)):\n",
        "    play_dialogues[i] = convert_to_lower(play_dialogues[i])\n",
        "\n",
        "for i in range(len(sonnets)):\n",
        "    sonnets[i] = convert_to_lower(sonnets[i])"
      ]
    },
    {
      "cell_type": "code",
      "execution_count": 18,
      "metadata": {
        "id": "YnFLpGrfkO80"
      },
      "outputs": [],
      "source": [
        "# Combine sonnet and play data\n",
        "# combined_data = sonnets + play_dialogues\n",
        "combined_data = sonnets"
      ]
    },
    {
      "cell_type": "code",
      "execution_count": 19,
      "metadata": {
        "id": "d9ZdbZRFkO81"
      },
      "outputs": [],
      "source": [
        "# Tokenize the text\n",
        "tokenizer = Tokenizer()\n",
        "tokenizer.fit_on_texts(combined_data)\n",
        "total_words = len(tokenizer.word_index) + 1"
      ]
    },
    {
      "cell_type": "code",
      "execution_count": 20,
      "metadata": {
        "id": "ziCVgixAkO82"
      },
      "outputs": [],
      "source": [
        "# Generate input sequences\n",
        "input_sequences = []\n",
        "for line in combined_data:\n",
        "    token_list = tokenizer.texts_to_sequences([line])[0]\n",
        "    for i in range(1, len(token_list)):\n",
        "        n_gram_sequence = token_list[:i+1]\n",
        "        input_sequences.append(n_gram_sequence)"
      ]
    },
    {
      "cell_type": "code",
      "execution_count": 21,
      "metadata": {
        "id": "P3WIadLlkO83"
      },
      "outputs": [],
      "source": [
        "# Pad sequences\n",
        "max_sequence_len = max([len(x) for x in input_sequences])\n",
        "input_sequences = pad_sequences(input_sequences, maxlen=max_sequence_len, padding='pre')"
      ]
    },
    {
      "cell_type": "code",
      "execution_count": 22,
      "metadata": {
        "id": "PQI_2sMkkO83"
      },
      "outputs": [],
      "source": [
        "# Split input sequences into input and output\n",
        "input_sequences = tf.keras.preprocessing.sequence.pad_sequences(input_sequences)\n",
        "xs, labels = input_sequences[:, :-1], input_sequences[:, -1]"
      ]
    },
    {
      "cell_type": "code",
      "execution_count": 23,
      "metadata": {
        "id": "pITQ6N85kO84"
      },
      "outputs": [],
      "source": [
        "# Define the model\n",
        "model = tf.keras.Sequential([\n",
        "    tf.keras.layers.Embedding(total_words, 100, input_length=max_sequence_len-1),\n",
        "    # tf.keras.layers.Bidirectional(tf.keras.layers.LSTM(150, return_sequences=True)),\n",
        "    tf.keras.layers.LSTM(150, return_sequences=True),\n",
        "    tf.keras.layers.Dropout(0.2),\n",
        "    tf.keras.layers.LSTM(100),\n",
        "    tf.keras.layers.Dense(total_words/2, activation='relu'),\n",
        "    tf.keras.layers.Dense(total_words, activation='softmax')\n",
        "])"
      ]
    },
    {
      "cell_type": "code",
      "execution_count": 24,
      "metadata": {
        "id": "HmYYly9WkO85"
      },
      "outputs": [],
      "source": [
        "# Compile the model\n",
        "model.compile(loss='sparse_categorical_crossentropy', optimizer='adam', metrics=['accuracy'])"
      ]
    },
    {
      "cell_type": "code",
      "execution_count": 33,
      "metadata": {
        "colab": {
          "base_uri": "https://localhost:8080/"
        },
        "id": "ilflhglIkO86",
        "outputId": "ca4bb637-3314-4135-c6b6-2c31f4ffbf34"
      },
      "outputs": [
        {
          "name": "stdout",
          "output_type": "stream",
          "text": [
            "Epoch 1/100\n",
            "546/546 [==============================] - 234s 429ms/step - loss: 6.4102 - accuracy: 0.0276\n",
            "Epoch 2/100\n",
            "546/546 [==============================] - 306s 561ms/step - loss: 6.3190 - accuracy: 0.0298\n",
            "Epoch 3/100\n",
            "546/546 [==============================] - 357s 654ms/step - loss: 6.2009 - accuracy: 0.0343\n",
            "Epoch 4/100\n",
            "546/546 [==============================] - 242s 443ms/step - loss: 6.1053 - accuracy: 0.0377\n",
            "Epoch 5/100\n",
            "546/546 [==============================] - 415s 761ms/step - loss: 6.0130 - accuracy: 0.0388\n",
            "Epoch 6/100\n",
            "546/546 [==============================] - 202s 371ms/step - loss: 5.9100 - accuracy: 0.0407\n",
            "Epoch 7/100\n",
            "546/546 [==============================] - 251s 460ms/step - loss: 5.8100 - accuracy: 0.0446\n",
            "Epoch 8/100\n",
            "546/546 [==============================] - 240s 439ms/step - loss: 5.7045 - accuracy: 0.0514\n",
            "Epoch 9/100\n",
            "546/546 [==============================] - 305s 559ms/step - loss: 5.5870 - accuracy: 0.0570\n",
            "Epoch 10/100\n",
            "546/546 [==============================] - 358s 655ms/step - loss: 5.4691 - accuracy: 0.0646\n",
            "Epoch 11/100\n",
            "546/546 [==============================] - 353s 646ms/step - loss: 5.3471 - accuracy: 0.0734\n",
            "Epoch 12/100\n",
            "546/546 [==============================] - 232s 425ms/step - loss: 5.2235 - accuracy: 0.0801\n",
            "Epoch 13/100\n",
            "546/546 [==============================] - 265s 486ms/step - loss: 5.0896 - accuracy: 0.0847\n",
            "Epoch 14/100\n",
            "303/546 [===============>..............] - ETA: 1:46 - loss: 4.9348 - accuracy: 0.0859"
          ]
        }
      ],
      "source": [
        "# Train the model\n",
        "history = model.fit(xs, labels, epochs=100)"
      ]
    },
    {
      "cell_type": "code",
      "execution_count": 26,
      "metadata": {},
      "outputs": [],
      "source": [
        "import tensorflow as tf\n",
        "import pickle"
      ]
    },
    {
      "cell_type": "code",
      "execution_count": 27,
      "metadata": {
        "id": "_VnM3p0tkO88"
      },
      "outputs": [],
      "source": [
        "# model = tf.keras.models.load_model('../models/sonnet_generator.h5')\n",
        "\n",
        "# Generate a sonnet\n",
        "seed_text = \"the love was flowered\"\n",
        "next_words = 10  # Number of words to generate in the sonnet\n",
        "tokenizerLoaded = pickle.load(open('../tokenizer.pickle', 'rb'))"
      ]
    },
    {
      "cell_type": "code",
      "execution_count": 31,
      "metadata": {
        "colab": {
          "base_uri": "https://localhost:8080/"
        },
        "id": "KYcc-r7aT9zq",
        "outputId": "ba4b69f9-5311-44b8-edff-1522a1d4e89e"
      },
      "outputs": [
        {
          "name": "stdout",
          "output_type": "stream",
          "text": [
            "1/1 [==============================] - 0s 35ms/step\n",
            "1/1 [==============================] - 0s 47ms/step\n",
            "1/1 [==============================] - 0s 40ms/step\n",
            "1/1 [==============================] - 0s 34ms/step\n",
            "1/1 [==============================] - 0s 30ms/step\n",
            "1/1 [==============================] - 0s 37ms/step\n",
            "1/1 [==============================] - 0s 31ms/step\n",
            "1/1 [==============================] - 0s 32ms/step\n",
            "1/1 [==============================] - 0s 34ms/step\n",
            "1/1 [==============================] - 0s 36ms/step\n",
            "1/1 [==============================] - 0s 37ms/step\n",
            "1/1 [==============================] - 0s 34ms/step\n",
            "1/1 [==============================] - 0s 39ms/step\n",
            "1/1 [==============================] - 0s 36ms/step\n",
            "1/1 [==============================] - 0s 38ms/step\n",
            "1/1 [==============================] - 0s 39ms/step\n",
            "1/1 [==============================] - 0s 41ms/step\n",
            "1/1 [==============================] - 0s 38ms/step\n",
            "1/1 [==============================] - 0s 40ms/step\n",
            "1/1 [==============================] - 0s 66ms/step\n",
            "1/1 [==============================] - 0s 48ms/step\n",
            "1/1 [==============================] - 0s 50ms/step\n",
            "1/1 [==============================] - 0s 53ms/step\n",
            "1/1 [==============================] - 0s 43ms/step\n",
            "1/1 [==============================] - 0s 39ms/step\n",
            "1/1 [==============================] - 0s 49ms/step\n",
            "1/1 [==============================] - 0s 45ms/step\n",
            "1/1 [==============================] - 0s 54ms/step\n",
            "1/1 [==============================] - 0s 60ms/step\n",
            "1/1 [==============================] - 0s 31ms/step\n",
            "1/1 [==============================] - 0s 52ms/step\n",
            "1/1 [==============================] - 0s 52ms/step\n",
            "1/1 [==============================] - 0s 43ms/step\n",
            "1/1 [==============================] - 0s 41ms/step\n",
            "1/1 [==============================] - 0s 47ms/step\n",
            "1/1 [==============================] - 0s 42ms/step\n",
            "1/1 [==============================] - 0s 37ms/step\n",
            "1/1 [==============================] - 0s 33ms/step\n",
            "1/1 [==============================] - 0s 34ms/step\n",
            "1/1 [==============================] - 0s 29ms/step\n",
            "1/1 [==============================] - 0s 47ms/step\n",
            "1/1 [==============================] - 0s 37ms/step\n",
            "1/1 [==============================] - 0s 35ms/step\n",
            "1/1 [==============================] - 0s 33ms/step\n",
            "1/1 [==============================] - 0s 30ms/step\n",
            "1/1 [==============================] - 0s 28ms/step\n",
            "1/1 [==============================] - 0s 44ms/step\n",
            "1/1 [==============================] - 0s 44ms/step\n",
            "1/1 [==============================] - 0s 46ms/step\n",
            "1/1 [==============================] - 0s 44ms/step\n",
            "1/1 [==============================] - 0s 41ms/step\n",
            "1/1 [==============================] - 0s 28ms/step\n",
            "1/1 [==============================] - 0s 31ms/step\n",
            "1/1 [==============================] - 0s 28ms/step\n",
            "1/1 [==============================] - 0s 44ms/step\n",
            "1/1 [==============================] - 0s 39ms/step\n",
            "1/1 [==============================] - 0s 29ms/step\n",
            "1/1 [==============================] - 0s 30ms/step\n",
            "1/1 [==============================] - 0s 34ms/step\n",
            "1/1 [==============================] - 0s 30ms/step\n",
            "1/1 [==============================] - 0s 41ms/step\n",
            "1/1 [==============================] - 0s 43ms/step\n",
            "1/1 [==============================] - 0s 46ms/step\n",
            "1/1 [==============================] - 0s 52ms/step\n",
            "1/1 [==============================] - 0s 31ms/step\n",
            "1/1 [==============================] - 0s 30ms/step\n",
            "1/1 [==============================] - 0s 32ms/step\n",
            "1/1 [==============================] - 0s 30ms/step\n",
            "1/1 [==============================] - 0s 31ms/step\n",
            "1/1 [==============================] - 0s 36ms/step\n",
            "1/1 [==============================] - 0s 33ms/step\n",
            "1/1 [==============================] - 0s 38ms/step\n",
            "1/1 [==============================] - 0s 54ms/step\n",
            "1/1 [==============================] - 0s 53ms/step\n",
            "1/1 [==============================] - 0s 41ms/step\n",
            "1/1 [==============================] - 0s 52ms/step\n",
            "1/1 [==============================] - 0s 37ms/step\n",
            "1/1 [==============================] - 0s 31ms/step\n",
            "1/1 [==============================] - 0s 48ms/step\n",
            "1/1 [==============================] - 0s 48ms/step\n",
            "1/1 [==============================] - 0s 30ms/step\n",
            "1/1 [==============================] - 0s 30ms/step\n",
            "1/1 [==============================] - 0s 46ms/step\n",
            "1/1 [==============================] - 0s 30ms/step\n",
            "1/1 [==============================] - 0s 29ms/step\n",
            "1/1 [==============================] - 0s 28ms/step\n",
            "1/1 [==============================] - 0s 35ms/step\n",
            "1/1 [==============================] - 0s 44ms/step\n",
            "1/1 [==============================] - 0s 30ms/step\n"
          ]
        }
      ],
      "source": [
        "for _ in range(100 - len(seed_text.split())):\n",
        "    token_list = tokenizerLoaded.texts_to_sequences([seed_text])[0]\n",
        "    token_list = pad_sequences([token_list], maxlen=129, padding='pre')\n",
        "    predicted = np.argmax(model.predict(token_list), axis=-1)\n",
        "    output_word = \"\"\n",
        "    for word, index in tokenizerLoaded.word_index.items():\n",
        "        if index == predicted:\n",
        "            output_word = word\n",
        "            break\n",
        "    seed_text += \" \" + output_word"
      ]
    },
    {
      "cell_type": "code",
      "execution_count": 32,
      "metadata": {
        "colab": {
          "base_uri": "https://localhost:8080/"
        },
        "id": "xkEPZZ6VUAYS",
        "outputId": "ce10aa34-9b7b-4fb7-a929-5f6056df1dd4"
      },
      "outputs": [
        {
          "name": "stdout",
          "output_type": "stream",
          "text": [
            "the love was flowered the the the the the the the the the the the the the the the the the the the the the the the the the the the the the the the the the the the the the the the the the the the the the the the the the the the the the the the the the the the the the the the the the the the the the the the the the the the the the the the the the the the the the the the the the the the the the the the the\n"
          ]
        }
      ],
      "source": [
        "print(seed_text)"
      ]
    },
    {
      "cell_type": "code",
      "execution_count": 36,
      "metadata": {
        "id": "5uEWZaTjUi-p"
      },
      "outputs": [],
      "source": [
        "model.save('new_model.h5')"
      ]
    },
    {
      "cell_type": "code",
      "execution_count": 38,
      "metadata": {
        "id": "tduSyomVWcWn"
      },
      "outputs": [],
      "source": [
        "# saving\n",
        "with open('tokenizer.pickle', 'wb') as handle:\n",
        "    pickle.dump(tokenizer, handle, protocol=pickle.HIGHEST_PROTOCOL)"
      ]
    },
    {
      "cell_type": "code",
      "execution_count": 8,
      "metadata": {
        "id": "_wwtJMbrWgaF"
      },
      "outputs": [],
      "source": [
        "# loading\n",
        "with open('tokenizer.pickle', 'rb') as handle:\n",
        "    tokenizerLoaded = pickle.load(handle)"
      ]
    },
    {
      "cell_type": "code",
      "execution_count": 40,
      "metadata": {
        "colab": {
          "base_uri": "https://localhost:8080/"
        },
        "id": "xyetSN07W4Ak",
        "outputId": "56651b4c-2a36-4888-8a7e-d811b0688b03"
      },
      "outputs": [
        {
          "data": {
            "text/plain": [
              "163"
            ]
          },
          "execution_count": 40,
          "metadata": {},
          "output_type": "execute_result"
        }
      ],
      "source": [
        "max_sequence_len"
      ]
    },
    {
      "cell_type": "code",
      "execution_count": 93,
      "metadata": {
        "id": "OpFNd_kBUyYL"
      },
      "outputs": [],
      "source": [
        "def generate_sonnet(seed_text):\n",
        "  MAX_SEQ_LEN = 163\n",
        "  for i in range(14):\n",
        "    token_list = tokenizerLoaded.texts_to_sequences([seed_text])[0]\n",
        "    token_list = pad_sequences([token_list], maxlen = MAX_SEQ_LEN-1, padding='pre')\n",
        "    predicted = np.argmax(model.predict(token_list), axis=-1)\n",
        "    output_word = \"\"\n",
        "\n",
        "    for word, index in tokenizer.word_index.items():\n",
        "      if index == predicted:\n",
        "        output_word = word\n",
        "        break\n",
        "    seed_text += \" \" + output_word\n",
        "  return seed_text"
      ]
    },
    {
      "cell_type": "code",
      "execution_count": 98,
      "metadata": {
        "colab": {
          "base_uri": "https://localhost:8080/"
        },
        "id": "zYKsJpdXXxQD",
        "outputId": "de349f63-0213-4298-aac6-118f2248be97"
      },
      "outputs": [
        {
          "name": "stdout",
          "output_type": "stream",
          "text": [
            "1/1 [==============================] - 0s 28ms/step\n",
            "1/1 [==============================] - 0s 24ms/step\n",
            "1/1 [==============================] - 0s 24ms/step\n",
            "1/1 [==============================] - 0s 26ms/step\n",
            "1/1 [==============================] - 0s 27ms/step\n",
            "1/1 [==============================] - 0s 23ms/step\n",
            "1/1 [==============================] - 0s 24ms/step\n",
            "1/1 [==============================] - 0s 26ms/step\n",
            "1/1 [==============================] - 0s 27ms/step\n",
            "1/1 [==============================] - 0s 27ms/step\n",
            "1/1 [==============================] - 0s 28ms/step\n",
            "1/1 [==============================] - 0s 28ms/step\n",
            "1/1 [==============================] - 0s 26ms/step\n",
            "1/1 [==============================] - 0s 25ms/step\n"
          ]
        }
      ],
      "source": [
        "pred1 = generate_sonnet(\"loving beyond\")"
      ]
    },
    {
      "cell_type": "code",
      "execution_count": 99,
      "metadata": {
        "colab": {
          "base_uri": "https://localhost:8080/",
          "height": 35
        },
        "id": "vOUqxWREcX8X",
        "outputId": "36d0fab9-ca7d-4b07-dbee-78517a8effd9"
      },
      "outputs": [
        {
          "data": {
            "application/vnd.google.colaboratory.intrinsic+json": {
              "type": "string"
            },
            "text/plain": [
              "'love to the world and i will tell you what a man is not a'"
            ]
          },
          "execution_count": 99,
          "metadata": {},
          "output_type": "execute_result"
        }
      ],
      "source": [
        "pred"
      ]
    },
    {
      "cell_type": "code",
      "execution_count": 100,
      "metadata": {
        "colab": {
          "base_uri": "https://localhost:8080/",
          "height": 35
        },
        "id": "idLOLbvAck58",
        "outputId": "1c2c659b-4a76-49f5-d268-980ec419f70d"
      },
      "outputs": [
        {
          "data": {
            "application/vnd.google.colaboratory.intrinsic+json": {
              "type": "string"
            },
            "text/plain": [
              "'loving beyond the world and i will be a little of the world and i am'"
            ]
          },
          "execution_count": 100,
          "metadata": {},
          "output_type": "execute_result"
        }
      ],
      "source": [
        "pred1"
      ]
    },
    {
      "cell_type": "code",
      "execution_count": null,
      "metadata": {
        "id": "7VhI2mm5cxhK"
      },
      "outputs": [],
      "source": []
    }
  ],
  "metadata": {
    "accelerator": "GPU",
    "colab": {
      "gpuType": "T4",
      "provenance": []
    },
    "gpuClass": "standard",
    "kernelspec": {
      "display_name": "Python 3.8.0 64-bit",
      "language": "python",
      "name": "python3"
    },
    "language_info": {
      "codemirror_mode": {
        "name": "ipython",
        "version": 3
      },
      "file_extension": ".py",
      "mimetype": "text/x-python",
      "name": "python",
      "nbconvert_exporter": "python",
      "pygments_lexer": "ipython3",
      "version": "3.8.10"
    },
    "orig_nbformat": 4,
    "vscode": {
      "interpreter": {
        "hash": "cd2ccc147b25bc63e03b8c2078329f48b3831a7ce96f0169912c1ccdf48e1006"
      }
    }
  },
  "nbformat": 4,
  "nbformat_minor": 0
}
