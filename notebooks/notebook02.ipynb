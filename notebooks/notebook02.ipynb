{
  "cells": [
    {
      "cell_type": "code",
      "execution_count": 1,
      "metadata": {
        "id": "BGOoJlj2kO8n"
      },
      "outputs": [],
      "source": [
        "import re\n",
        "import pickle\n",
        "import numpy as np\n",
        "import tensorflow as tf\n",
        "from tensorflow.keras.preprocessing.text import Tokenizer\n",
        "from tensorflow.keras.preprocessing.sequence import pad_sequences"
      ]
    },
    {
      "cell_type": "code",
      "execution_count": 17,
      "metadata": {
        "id": "bW1jUFXLkO8s"
      },
      "outputs": [],
      "source": [
        "# Load and preprocess sonnet data\n",
        "sonnet_data = \"\"\n",
        "with open(\"../data/sonnet_data/Sonnet.txt\", \"r\") as file:\n",
        "    sonnet_data = file.read()\n",
        "\n",
        "sonnets = sonnet_data.split(\"\\n\\n\")  # Split sonnets based on double lines\n"
      ]
    },
    {
      "cell_type": "code",
      "execution_count": 3,
      "metadata": {
        "id": "fTdXtDRDkO8t"
      },
      "outputs": [],
      "source": [
        "# Load and preprocess play data\n",
        "play_data = \"\"\n",
        "with open(\"../data/plays_data/alllines.txt\", \"r\") as file:\n",
        "    play_data = file.read()\n",
        "\n",
        "play_dialogues = play_data.split(\"\\n\")  # Split dialogues based on new lines\n"
      ]
    },
    {
      "cell_type": "code",
      "execution_count": 4,
      "metadata": {
        "id": "n17iLCGikO8v"
      },
      "outputs": [],
      "source": [
        "def remove_words_with_symbols(text):\n",
        "    '''\n",
        "    Removes words with symbols from text\n",
        "    '''\n",
        "    pattern = r'\\b\\w*[^a-zA-Z0-9\\s]\\w*\\b'\n",
        "    clean_text = re.sub(pattern, '', text)\n",
        "    return clean_text\n",
        "\n",
        "def remove_inverted_commas(text):\n",
        "    '''\n",
        "    Removes inverted commas from text\n",
        "    '''\n",
        "    pattern = r'^\"|\"$'\n",
        "    clean_text = re.sub(pattern, '', text, flags=re.MULTILINE)\n",
        "    return clean_text\n",
        "\n",
        "def remove_punctuation(text):\n",
        "    '''\n",
        "    Removes punctuation from text\n",
        "    '''\n",
        "    pattern = r'[^\\w\\s]'\n",
        "    clean_text = re.sub(pattern, '', text)\n",
        "    return clean_text\n",
        "\n",
        "def convert_to_lower(text):\n",
        "    '''\n",
        "    Converts text to lower case\n",
        "    '''\n",
        "    return text.lower()"
      ]
    },
    {
      "cell_type": "code",
      "execution_count": 5,
      "metadata": {
        "id": "DOCf3DGfkO8w"
      },
      "outputs": [],
      "source": [
        "for i in range(len(sonnets)):\n",
        "    sonnets[i] = remove_words_with_symbols(sonnets[i])"
      ]
    },
    {
      "cell_type": "code",
      "execution_count": 6,
      "metadata": {
        "id": "tbSi3f77kO8x"
      },
      "outputs": [],
      "source": [
        "for i in range(len(play_dialogues)):\n",
        "    play_dialogues[i] = remove_inverted_commas(play_dialogues[i])"
      ]
    },
    {
      "cell_type": "code",
      "execution_count": 7,
      "metadata": {
        "id": "UUt8q1jGkO8y"
      },
      "outputs": [],
      "source": [
        "for i in range(len(play_dialogues)):\n",
        "    play_dialogues[i] = remove_punctuation(play_dialogues[i])\n",
        "\n",
        "for i in range(len(sonnets)):\n",
        "    sonnets[i] = remove_punctuation(sonnets[i])"
      ]
    },
    {
      "cell_type": "code",
      "execution_count": 8,
      "metadata": {
        "id": "MVPnYlKwkO8z"
      },
      "outputs": [],
      "source": [
        "for i in range(len(play_dialogues)):\n",
        "    play_dialogues[i] = convert_to_lower(play_dialogues[i])\n",
        "\n",
        "for i in range(len(sonnets)):\n",
        "    sonnets[i] = convert_to_lower(sonnets[i])"
      ]
    },
    {
      "cell_type": "code",
      "execution_count": 18,
      "metadata": {
        "id": "YnFLpGrfkO80"
      },
      "outputs": [],
      "source": [
        "# Combine sonnet and play data\n",
        "# combined_data = sonnets + play_dialogues\n",
        "combined_data = sonnets"
      ]
    },
    {
      "cell_type": "code",
      "execution_count": 19,
      "metadata": {
        "id": "d9ZdbZRFkO81"
      },
      "outputs": [],
      "source": [
        "# Tokenize the text\n",
        "tokenizer = Tokenizer()\n",
        "tokenizer.fit_on_texts(combined_data)\n",
        "total_words = len(tokenizer.word_index) + 1"
      ]
    },
    {
      "cell_type": "code",
      "execution_count": 20,
      "metadata": {
        "id": "ziCVgixAkO82"
      },
      "outputs": [],
      "source": [
        "# Generate input sequences\n",
        "input_sequences = []\n",
        "for line in combined_data:\n",
        "    token_list = tokenizer.texts_to_sequences([line])[0]\n",
        "    for i in range(1, len(token_list)):\n",
        "        n_gram_sequence = token_list[:i+1]\n",
        "        input_sequences.append(n_gram_sequence)"
      ]
    },
    {
      "cell_type": "code",
      "execution_count": 21,
      "metadata": {
        "id": "P3WIadLlkO83"
      },
      "outputs": [],
      "source": [
        "# Pad sequences\n",
        "max_sequence_len = max([len(x) for x in input_sequences])\n",
        "input_sequences = pad_sequences(input_sequences, maxlen=max_sequence_len, padding='pre')"
      ]
    },
    {
      "cell_type": "code",
      "execution_count": 22,
      "metadata": {
        "id": "PQI_2sMkkO83"
      },
      "outputs": [],
      "source": [
        "# Split input sequences into input and output\n",
        "input_sequences = tf.keras.preprocessing.sequence.pad_sequences(input_sequences)\n",
        "xs, labels = input_sequences[:, :-1], input_sequences[:, -1]"
      ]
    },
    {
      "cell_type": "code",
      "execution_count": 23,
      "metadata": {
        "id": "pITQ6N85kO84"
      },
      "outputs": [],
      "source": [
        "# Define the model\n",
        "model = tf.keras.Sequential([\n",
        "    tf.keras.layers.Embedding(total_words, 100, input_length=max_sequence_len-1),\n",
        "    # tf.keras.layers.Bidirectional(tf.keras.layers.LSTM(150, return_sequences=True)),\n",
        "    tf.keras.layers.LSTM(150, return_sequences=True),\n",
        "    tf.keras.layers.Dropout(0.2),\n",
        "    tf.keras.layers.LSTM(100),\n",
        "    tf.keras.layers.Dense(total_words/2, activation='relu'),\n",
        "    tf.keras.layers.Dense(total_words, activation='softmax')\n",
        "])"
      ]
    },
    {
      "cell_type": "code",
      "execution_count": 24,
      "metadata": {
        "id": "HmYYly9WkO85"
      },
      "outputs": [],
      "source": [
        "# Compile the model\n",
        "model.compile(loss='sparse_categorical_crossentropy', optimizer='adam', metrics=['accuracy'])"
      ]
    },
    {
      "cell_type": "code",
      "execution_count": 33,
      "metadata": {
        "colab": {
          "base_uri": "https://localhost:8080/"
        },
        "id": "ilflhglIkO86",
        "outputId": "ca4bb637-3314-4135-c6b6-2c31f4ffbf34"
      },
      "outputs": [
        {
          "name": "stdout",
          "output_type": "stream",
          "text": [
            "Epoch 1/100\n",
            "546/546 [==============================] - 234s 429ms/step - loss: 6.4102 - accuracy: 0.0276\n",
            "Epoch 2/100\n",
            "546/546 [==============================] - 306s 561ms/step - loss: 6.3190 - accuracy: 0.0298\n",
            "Epoch 3/100\n",
            "546/546 [==============================] - 357s 654ms/step - loss: 6.2009 - accuracy: 0.0343\n",
            "Epoch 4/100\n",
            "546/546 [==============================] - 242s 443ms/step - loss: 6.1053 - accuracy: 0.0377\n",
            "Epoch 5/100\n",
            "546/546 [==============================] - 415s 761ms/step - loss: 6.0130 - accuracy: 0.0388\n",
            "Epoch 6/100\n",
            "546/546 [==============================] - 202s 371ms/step - loss: 5.9100 - accuracy: 0.0407\n",
            "Epoch 7/100\n",
            "546/546 [==============================] - 251s 460ms/step - loss: 5.8100 - accuracy: 0.0446\n",
            "Epoch 8/100\n",
            "546/546 [==============================] - 240s 439ms/step - loss: 5.7045 - accuracy: 0.0514\n",
            "Epoch 9/100\n",
            "546/546 [==============================] - 305s 559ms/step - loss: 5.5870 - accuracy: 0.0570\n",
            "Epoch 10/100\n",
            "546/546 [==============================] - 358s 655ms/step - loss: 5.4691 - accuracy: 0.0646\n",
            "Epoch 11/100\n",
            "546/546 [==============================] - 353s 646ms/step - loss: 5.3471 - accuracy: 0.0734\n",
            "Epoch 12/100\n",
            "546/546 [==============================] - 232s 425ms/step - loss: 5.2235 - accuracy: 0.0801\n",
            "Epoch 13/100\n",
            "546/546 [==============================] - 265s 486ms/step - loss: 5.0896 - accuracy: 0.0847\n",
            "Epoch 14/100\n",
<<<<<<< HEAD
            "546/546 [==============================] - 263s 482ms/step - loss: 4.9551 - accuracy: 0.0871\n",
            "Epoch 15/100\n",
            "546/546 [==============================] - 329s 603ms/step - loss: 4.8139 - accuracy: 0.0943\n",
            "Epoch 16/100\n",
            "546/546 [==============================] - 276s 506ms/step - loss: 4.6557 - accuracy: 0.0983\n",
            "Epoch 17/100\n",
            "546/546 [==============================] - 216s 395ms/step - loss: 4.4922 - accuracy: 0.1056\n",
            "Epoch 18/100\n",
            "546/546 [==============================] - 442s 811ms/step - loss: 4.3269 - accuracy: 0.1157\n",
            "Epoch 19/100\n",
            "546/546 [==============================] - 185s 338ms/step - loss: 4.1454 - accuracy: 0.1273\n",
            "Epoch 20/100\n",
            "546/546 [==============================] - 217s 397ms/step - loss: 3.9526 - accuracy: 0.1403\n",
            "Epoch 21/100\n",
            "546/546 [==============================] - 216s 395ms/step - loss: 3.7647 - accuracy: 0.1588\n",
            "Epoch 22/100\n",
            "546/546 [==============================] - 233s 426ms/step - loss: 3.5760 - accuracy: 0.1889\n",
            "Epoch 23/100\n",
            "546/546 [==============================] - 213s 390ms/step - loss: 3.3900 - accuracy: 0.2098\n",
            "Epoch 24/100\n",
            "546/546 [==============================] - 235s 431ms/step - loss: 3.2021 - accuracy: 0.2439\n",
            "Epoch 25/100\n",
            "546/546 [==============================] - 218s 399ms/step - loss: 3.0145 - accuracy: 0.2783\n",
            "Epoch 26/100\n",
            "546/546 [==============================] - 238s 437ms/step - loss: 2.8539 - accuracy: 0.3054\n",
            "Epoch 27/100\n",
            "546/546 [==============================] - 226s 414ms/step - loss: 2.6887 - accuracy: 0.3334\n",
            "Epoch 28/100\n",
            "546/546 [==============================] - 226s 413ms/step - loss: 2.5401 - accuracy: 0.3634\n",
            "Epoch 29/100\n",
            "546/546 [==============================] - 237s 434ms/step - loss: 2.3995 - accuracy: 0.3944\n",
            "Epoch 30/100\n",
            "546/546 [==============================] - 217s 398ms/step - loss: 2.2713 - accuracy: 0.4223\n",
            "Epoch 31/100\n",
            "546/546 [==============================] - 238s 435ms/step - loss: 2.1469 - accuracy: 0.4475\n",
            "Epoch 32/100\n",
            "546/546 [==============================] - 216s 395ms/step - loss: 2.0111 - accuracy: 0.4755\n",
            "Epoch 33/100\n",
            "546/546 [==============================] - 239s 438ms/step - loss: 1.9057 - accuracy: 0.4982\n",
            "Epoch 34/100\n",
            "546/546 [==============================] - 239s 438ms/step - loss: 1.8071 - accuracy: 0.5205\n",
            "Epoch 35/100\n",
            "546/546 [==============================] - 227s 415ms/step - loss: 1.7145 - accuracy: 0.5383\n",
            "Epoch 36/100\n",
            "546/546 [==============================] - 233s 427ms/step - loss: 1.6167 - accuracy: 0.5628\n",
            "Epoch 37/100\n",
            "546/546 [==============================] - 237s 433ms/step - loss: 1.5294 - accuracy: 0.5876\n",
            "Epoch 38/100\n",
            "546/546 [==============================] - 221s 404ms/step - loss: 1.4439 - accuracy: 0.6078\n",
            "Epoch 39/100\n",
            "546/546 [==============================] - 235s 429ms/step - loss: 1.3627 - accuracy: 0.6267\n",
            "Epoch 40/100\n",
            "546/546 [==============================] - 225s 413ms/step - loss: 1.2792 - accuracy: 0.6512\n",
            "Epoch 41/100\n",
            "546/546 [==============================] - 236s 433ms/step - loss: 1.2106 - accuracy: 0.6672\n",
            "Epoch 42/100\n",
            "546/546 [==============================] - 219s 401ms/step - loss: 1.1624 - accuracy: 0.6767\n",
            "Epoch 43/100\n",
            "546/546 [==============================] - 240s 440ms/step - loss: 1.0925 - accuracy: 0.6977\n",
            "Epoch 44/100\n",
            "546/546 [==============================] - 221s 405ms/step - loss: 1.0401 - accuracy: 0.7121\n",
            "Epoch 45/100\n",
            "546/546 [==============================] - 239s 437ms/step - loss: 0.9721 - accuracy: 0.7296\n",
            "Epoch 46/100\n",
            "546/546 [==============================] - 228s 417ms/step - loss: 0.9174 - accuracy: 0.7440\n",
            "Epoch 47/100\n",
            "546/546 [==============================] - 233s 426ms/step - loss: 0.8745 - accuracy: 0.7558\n",
            "Epoch 48/100\n",
            "546/546 [==============================] - 231s 423ms/step - loss: 0.8193 - accuracy: 0.7713\n",
            "Epoch 49/100\n",
            "546/546 [==============================] - 226s 413ms/step - loss: 0.7771 - accuracy: 0.7818\n",
            "Epoch 50/100\n",
            "546/546 [==============================] - 240s 440ms/step - loss: 0.7311 - accuracy: 0.7956\n",
            "Epoch 51/100\n",
            "546/546 [==============================] - 222s 406ms/step - loss: 0.6926 - accuracy: 0.8051\n",
            "Epoch 52/100\n",
            "546/546 [==============================] - 238s 437ms/step - loss: 0.6557 - accuracy: 0.8157\n",
            "Epoch 53/100\n",
            "546/546 [==============================] - 220s 403ms/step - loss: 0.6020 - accuracy: 0.8301\n",
            "Epoch 54/100\n",
            "546/546 [==============================] - 237s 435ms/step - loss: 0.5783 - accuracy: 0.8358\n",
            "Epoch 55/100\n",
            "546/546 [==============================] - 217s 398ms/step - loss: 0.5511 - accuracy: 0.8442\n",
            "Epoch 56/100\n",
            "546/546 [==============================] - 238s 436ms/step - loss: 0.5145 - accuracy: 0.8547\n",
            "Epoch 57/100\n",
            "546/546 [==============================] - 220s 403ms/step - loss: 0.4879 - accuracy: 0.8646\n",
            "Epoch 58/100\n",
            "546/546 [==============================] - 240s 440ms/step - loss: 0.4581 - accuracy: 0.8715\n",
            "Epoch 59/100\n",
            "546/546 [==============================] - 220s 402ms/step - loss: 0.4358 - accuracy: 0.8778\n",
            "Epoch 60/100\n",
            "546/546 [==============================] - 227s 417ms/step - loss: 0.4117 - accuracy: 0.8855\n",
            "Epoch 61/100\n",
            "546/546 [==============================] - 230s 420ms/step - loss: 0.3885 - accuracy: 0.8924\n",
            "Epoch 62/100\n",
            "546/546 [==============================] - 240s 440ms/step - loss: 0.3703 - accuracy: 0.8972\n",
            "Epoch 63/100\n",
            "546/546 [==============================] - 220s 402ms/step - loss: 0.3526 - accuracy: 0.9024\n",
            "Epoch 64/100\n",
            "546/546 [==============================] - 241s 441ms/step - loss: 0.3320 - accuracy: 0.9073\n",
            "Epoch 65/100\n",
            "546/546 [==============================] - 230s 421ms/step - loss: 0.3144 - accuracy: 0.9129\n",
            "Epoch 66/100\n",
            "546/546 [==============================] - 232s 425ms/step - loss: 0.2996 - accuracy: 0.9189\n",
            "Epoch 67/100\n",
            "546/546 [==============================] - 234s 428ms/step - loss: 0.2843 - accuracy: 0.9216\n",
            "Epoch 68/100\n",
            "546/546 [==============================] - 229s 419ms/step - loss: 0.2819 - accuracy: 0.9229\n",
            "Epoch 69/100\n",
            "546/546 [==============================] - 228s 417ms/step - loss: 0.2562 - accuracy: 0.9300\n",
            "Epoch 70/100\n",
            "546/546 [==============================] - 232s 425ms/step - loss: 0.2564 - accuracy: 0.9291\n",
            "Epoch 71/100\n",
            "546/546 [==============================] - 223s 408ms/step - loss: 0.2476 - accuracy: 0.9321\n",
            "Epoch 72/100\n",
            "546/546 [==============================] - 239s 437ms/step - loss: 0.2287 - accuracy: 0.9374\n",
            "Epoch 73/100\n",
            "546/546 [==============================] - 227s 416ms/step - loss: 0.2122 - accuracy: 0.9431\n",
            "Epoch 74/100\n",
            "546/546 [==============================] - 230s 422ms/step - loss: 0.2145 - accuracy: 0.9415\n",
            "Epoch 75/100\n",
            "546/546 [==============================] - 228s 418ms/step - loss: 0.2031 - accuracy: 0.9463\n",
            "Epoch 76/100\n",
            "546/546 [==============================] - 227s 415ms/step - loss: 0.2011 - accuracy: 0.9450\n",
            "Epoch 77/100\n",
            "546/546 [==============================] - 222s 407ms/step - loss: 0.1973 - accuracy: 0.9462\n",
            "Epoch 78/100\n",
            "546/546 [==============================] - 238s 435ms/step - loss: 0.1847 - accuracy: 0.9484\n",
            "Epoch 79/100\n",
            "546/546 [==============================] - 221s 404ms/step - loss: 0.1760 - accuracy: 0.9526\n",
            "Epoch 80/100\n",
            "546/546 [==============================] - 236s 433ms/step - loss: 0.1714 - accuracy: 0.9526\n",
            "Epoch 81/100\n",
            "546/546 [==============================] - 219s 401ms/step - loss: 0.1710 - accuracy: 0.9513\n",
            "Epoch 82/100\n",
            "546/546 [==============================] - 239s 437ms/step - loss: 0.1680 - accuracy: 0.9541\n",
            "Epoch 83/100\n",
            "546/546 [==============================] - 219s 402ms/step - loss: 0.1624 - accuracy: 0.9574\n",
            "Epoch 84/100\n",
            "546/546 [==============================] - 242s 444ms/step - loss: 0.1572 - accuracy: 0.9541\n",
            "Epoch 85/100\n",
            "546/546 [==============================] - 219s 401ms/step - loss: 0.1415 - accuracy: 0.9626\n",
            "Epoch 86/100\n",
            "546/546 [==============================] - 237s 435ms/step - loss: 0.1463 - accuracy: 0.9591\n",
            "Epoch 87/100\n",
            "546/546 [==============================] - 223s 408ms/step - loss: 0.1513 - accuracy: 0.9579\n",
            "Epoch 88/100\n",
            "546/546 [==============================] - 240s 439ms/step - loss: 0.1443 - accuracy: 0.9585\n",
            "Epoch 89/100\n",
            "546/546 [==============================] - 218s 400ms/step - loss: 0.1380 - accuracy: 0.9622\n",
            "Epoch 90/100\n",
            "546/546 [==============================] - 238s 435ms/step - loss: 0.1398 - accuracy: 0.9615\n",
            "Epoch 91/100\n",
            "546/546 [==============================] - 219s 401ms/step - loss: 0.1398 - accuracy: 0.9593\n",
            "Epoch 92/100\n",
            "546/546 [==============================] - 241s 442ms/step - loss: 0.1367 - accuracy: 0.9604\n",
            "Epoch 93/100\n",
            "546/546 [==============================] - 223s 409ms/step - loss: 0.1122 - accuracy: 0.9688\n",
            "Epoch 94/100\n",
            "546/546 [==============================] - 241s 441ms/step - loss: 0.1222 - accuracy: 0.9655\n",
            "Epoch 95/100\n",
            "546/546 [==============================] - 220s 402ms/step - loss: 0.1210 - accuracy: 0.9656\n",
            "Epoch 96/100\n",
            "546/546 [==============================] - 237s 434ms/step - loss: 0.1305 - accuracy: 0.9634\n",
            "Epoch 97/100\n",
            "546/546 [==============================] - 225s 411ms/step - loss: 0.1291 - accuracy: 0.9613\n",
            "Epoch 98/100\n",
            "546/546 [==============================] - 226s 414ms/step - loss: 0.1184 - accuracy: 0.9666\n",
            "Epoch 99/100\n",
            "546/546 [==============================] - 232s 425ms/step - loss: 0.1161 - accuracy: 0.9655\n",
            "Epoch 100/100\n",
            "546/546 [==============================] - 219s 401ms/step - loss: 0.1182 - accuracy: 0.9662\n"
=======
            "303/546 [===============>..............] - ETA: 1:46 - loss: 4.9348 - accuracy: 0.0859"
>>>>>>> bf6acaf8f9f756c0e8810cf7660265d67ae0208d
          ]
        }
      ],
      "source": [
        "# Train the model\n",
        "history = model.fit(xs, labels, epochs=100)"
      ]
    },
    {
      "cell_type": "code",
<<<<<<< HEAD
      "execution_count": 35,
      "metadata": {},
      "outputs": [],
      "source": [
        "model.save('../models/sonnet_generator.h5')"
      ]
    },
    {
      "cell_type": "code",
=======
>>>>>>> bf6acaf8f9f756c0e8810cf7660265d67ae0208d
      "execution_count": 26,
      "metadata": {},
      "outputs": [],
      "source": [
        "import tensorflow as tf\n",
        "import pickle"
      ]
    },
    {
      "cell_type": "code",
<<<<<<< HEAD
      "execution_count": 36,
=======
      "execution_count": 27,
>>>>>>> bf6acaf8f9f756c0e8810cf7660265d67ae0208d
      "metadata": {
        "id": "_VnM3p0tkO88"
      },
      "outputs": [],
      "source": [
        "# model = tf.keras.models.load_model('../models/sonnet_generator.h5')\n",
        "\n",
        "# Generate a sonnet\n",
        "seed_text = \"the love was flowered\"\n",
        "next_words = 10  # Number of words to generate in the sonnet\n",
        "tokenizerLoaded = pickle.load(open('../tokenizer.pickle', 'rb'))"
      ]
    },
    {
      "cell_type": "code",
<<<<<<< HEAD
      "execution_count": 37,
=======
      "execution_count": 31,
>>>>>>> bf6acaf8f9f756c0e8810cf7660265d67ae0208d
      "metadata": {
        "colab": {
          "base_uri": "https://localhost:8080/"
        },
        "id": "KYcc-r7aT9zq",
        "outputId": "ba4b69f9-5311-44b8-edff-1522a1d4e89e"
      },
      "outputs": [
        {
          "name": "stdout",
          "output_type": "stream",
          "text": [
<<<<<<< HEAD
            "1/1 [==============================] - 0s 65ms/step\n",
            "1/1 [==============================] - 0s 47ms/step\n",
            "1/1 [==============================] - 0s 48ms/step\n",
            "1/1 [==============================] - 0s 36ms/step\n",
            "1/1 [==============================] - 0s 61ms/step\n",
            "1/1 [==============================] - 0s 51ms/step\n"
=======
            "1/1 [==============================] - 0s 35ms/step\n",
            "1/1 [==============================] - 0s 47ms/step\n",
            "1/1 [==============================] - 0s 40ms/step\n",
            "1/1 [==============================] - 0s 34ms/step\n",
            "1/1 [==============================] - 0s 30ms/step\n",
            "1/1 [==============================] - 0s 37ms/step\n",
            "1/1 [==============================] - 0s 31ms/step\n",
            "1/1 [==============================] - 0s 32ms/step\n",
            "1/1 [==============================] - 0s 34ms/step\n",
            "1/1 [==============================] - 0s 36ms/step\n",
            "1/1 [==============================] - 0s 37ms/step\n",
            "1/1 [==============================] - 0s 34ms/step\n",
            "1/1 [==============================] - 0s 39ms/step\n",
            "1/1 [==============================] - 0s 36ms/step\n",
            "1/1 [==============================] - 0s 38ms/step\n",
            "1/1 [==============================] - 0s 39ms/step\n",
            "1/1 [==============================] - 0s 41ms/step\n",
            "1/1 [==============================] - 0s 38ms/step\n",
            "1/1 [==============================] - 0s 40ms/step\n",
            "1/1 [==============================] - 0s 66ms/step\n",
            "1/1 [==============================] - 0s 48ms/step\n",
            "1/1 [==============================] - 0s 50ms/step\n",
            "1/1 [==============================] - 0s 53ms/step\n",
            "1/1 [==============================] - 0s 43ms/step\n",
            "1/1 [==============================] - 0s 39ms/step\n",
            "1/1 [==============================] - 0s 49ms/step\n",
            "1/1 [==============================] - 0s 45ms/step\n",
            "1/1 [==============================] - 0s 54ms/step\n",
            "1/1 [==============================] - 0s 60ms/step\n",
            "1/1 [==============================] - 0s 31ms/step\n",
            "1/1 [==============================] - 0s 52ms/step\n",
            "1/1 [==============================] - 0s 52ms/step\n",
            "1/1 [==============================] - 0s 43ms/step\n",
            "1/1 [==============================] - 0s 41ms/step\n",
            "1/1 [==============================] - 0s 47ms/step\n",
            "1/1 [==============================] - 0s 42ms/step\n",
            "1/1 [==============================] - 0s 37ms/step\n",
            "1/1 [==============================] - 0s 33ms/step\n",
            "1/1 [==============================] - 0s 34ms/step\n",
            "1/1 [==============================] - 0s 29ms/step\n",
            "1/1 [==============================] - 0s 47ms/step\n",
            "1/1 [==============================] - 0s 37ms/step\n",
            "1/1 [==============================] - 0s 35ms/step\n",
            "1/1 [==============================] - 0s 33ms/step\n",
            "1/1 [==============================] - 0s 30ms/step\n",
            "1/1 [==============================] - 0s 28ms/step\n",
            "1/1 [==============================] - 0s 44ms/step\n",
            "1/1 [==============================] - 0s 44ms/step\n",
            "1/1 [==============================] - 0s 46ms/step\n",
            "1/1 [==============================] - 0s 44ms/step\n",
            "1/1 [==============================] - 0s 41ms/step\n",
            "1/1 [==============================] - 0s 28ms/step\n",
            "1/1 [==============================] - 0s 31ms/step\n",
            "1/1 [==============================] - 0s 28ms/step\n",
            "1/1 [==============================] - 0s 44ms/step\n",
            "1/1 [==============================] - 0s 39ms/step\n",
            "1/1 [==============================] - 0s 29ms/step\n",
            "1/1 [==============================] - 0s 30ms/step\n",
            "1/1 [==============================] - 0s 34ms/step\n",
            "1/1 [==============================] - 0s 30ms/step\n",
            "1/1 [==============================] - 0s 41ms/step\n",
            "1/1 [==============================] - 0s 43ms/step\n",
            "1/1 [==============================] - 0s 46ms/step\n",
            "1/1 [==============================] - 0s 52ms/step\n",
            "1/1 [==============================] - 0s 31ms/step\n",
            "1/1 [==============================] - 0s 30ms/step\n",
            "1/1 [==============================] - 0s 32ms/step\n",
            "1/1 [==============================] - 0s 30ms/step\n",
            "1/1 [==============================] - 0s 31ms/step\n",
            "1/1 [==============================] - 0s 36ms/step\n",
            "1/1 [==============================] - 0s 33ms/step\n",
            "1/1 [==============================] - 0s 38ms/step\n",
            "1/1 [==============================] - 0s 54ms/step\n",
            "1/1 [==============================] - 0s 53ms/step\n",
            "1/1 [==============================] - 0s 41ms/step\n",
            "1/1 [==============================] - 0s 52ms/step\n",
            "1/1 [==============================] - 0s 37ms/step\n",
            "1/1 [==============================] - 0s 31ms/step\n",
            "1/1 [==============================] - 0s 48ms/step\n",
            "1/1 [==============================] - 0s 48ms/step\n",
            "1/1 [==============================] - 0s 30ms/step\n",
            "1/1 [==============================] - 0s 30ms/step\n",
            "1/1 [==============================] - 0s 46ms/step\n",
            "1/1 [==============================] - 0s 30ms/step\n",
            "1/1 [==============================] - 0s 29ms/step\n",
            "1/1 [==============================] - 0s 28ms/step\n",
            "1/1 [==============================] - 0s 35ms/step\n",
            "1/1 [==============================] - 0s 44ms/step\n",
            "1/1 [==============================] - 0s 30ms/step\n"
>>>>>>> bf6acaf8f9f756c0e8810cf7660265d67ae0208d
          ]
        }
      ],
      "source": [
<<<<<<< HEAD
        "for _ in range(10 - len(seed_text.split())):\n",
=======
        "for _ in range(100 - len(seed_text.split())):\n",
>>>>>>> bf6acaf8f9f756c0e8810cf7660265d67ae0208d
        "    token_list = tokenizerLoaded.texts_to_sequences([seed_text])[0]\n",
        "    token_list = pad_sequences([token_list], maxlen=129, padding='pre')\n",
        "    predicted = np.argmax(model.predict(token_list), axis=-1)\n",
        "    output_word = \"\"\n",
        "    for word, index in tokenizerLoaded.word_index.items():\n",
        "        if index == predicted:\n",
        "            output_word = word\n",
        "            break\n",
        "    seed_text += \" \" + output_word"
      ]
    },
    {
      "cell_type": "code",
<<<<<<< HEAD
      "execution_count": 38,
=======
      "execution_count": 32,
>>>>>>> bf6acaf8f9f756c0e8810cf7660265d67ae0208d
      "metadata": {
        "colab": {
          "base_uri": "https://localhost:8080/"
        },
        "id": "xkEPZZ6VUAYS",
        "outputId": "ce10aa34-9b7b-4fb7-a929-5f6056df1dd4"
      },
      "outputs": [
        {
          "name": "stdout",
          "output_type": "stream",
          "text": [
<<<<<<< HEAD
            "the love was flowered you of to fair but belarius\n"
=======
            "the love was flowered the the the the the the the the the the the the the the the the the the the the the the the the the the the the the the the the the the the the the the the the the the the the the the the the the the the the the the the the the the the the the the the the the the the the the the the the the the the the the the the the the the the the the the the the the the the the the the the the\n"
>>>>>>> bf6acaf8f9f756c0e8810cf7660265d67ae0208d
          ]
        }
      ],
      "source": [
        "print(seed_text)"
      ]
    },
    {
      "cell_type": "code",
      "execution_count": 39,
      "metadata": {},
      "outputs": [],
      "source": [
        "def printSonnet(text):\n",
        "    totalLines = 14\n",
        "    totalWords = 10\n",
        "    lines = []\n",
        "    # Predict 14 lines of 10 words each\n",
        "    for i in range(totalLines):\n",
        "        for _ in range(totalWords - len(text.split())):\n",
        "            token_list = tokenizerLoaded.texts_to_sequences([text])[0]\n",
        "            token_list = pad_sequences([token_list], maxlen=129, padding='pre')\n",
        "            predicted = np.argmax(model.predict(token_list), axis=-1)\n",
        "            output_word = \"\"\n",
        "            for word, index in tokenizerLoaded.word_index.items():\n",
        "                if index == predicted:\n",
        "                    output_word = word\n",
        "                    break\n",
        "            text += \" \" + output_word\n",
        "        lines.append(text)\n",
        "        text = \"\"\n",
        "    return lines"
      ]
    },
    {
      "cell_type": "code",
      "execution_count": 42,
      "metadata": {},
      "outputs": [
        {
          "name": "stdout",
          "output_type": "stream",
          "text": [
            "1/1 [==============================] - 0s 58ms/step\n"
          ]
        },
        {
          "name": "stdout",
          "output_type": "stream",
          "text": [
            "1/1 [==============================] - 0s 45ms/step\n",
            "1/1 [==============================] - 0s 53ms/step\n",
            "1/1 [==============================] - 0s 51ms/step\n",
            "1/1 [==============================] - 0s 46ms/step\n",
            "1/1 [==============================] - 0s 41ms/step\n",
            "1/1 [==============================] - 0s 50ms/step\n",
            "1/1 [==============================] - 0s 63ms/step\n",
            "1/1 [==============================] - 0s 59ms/step\n",
            "1/1 [==============================] - 0s 66ms/step\n",
            "1/1 [==============================] - 0s 48ms/step\n",
            "1/1 [==============================] - 0s 66ms/step\n",
            "1/1 [==============================] - 0s 80ms/step\n",
            "1/1 [==============================] - 0s 54ms/step\n",
            "1/1 [==============================] - 0s 62ms/step\n",
            "1/1 [==============================] - 0s 67ms/step\n",
            "1/1 [==============================] - 0s 74ms/step\n",
            "1/1 [==============================] - 0s 45ms/step\n",
            "1/1 [==============================] - 0s 62ms/step\n",
            "1/1 [==============================] - 0s 84ms/step\n",
            "1/1 [==============================] - 0s 78ms/step\n",
            "1/1 [==============================] - 0s 50ms/step\n",
            "1/1 [==============================] - 0s 49ms/step\n",
            "1/1 [==============================] - 0s 43ms/step\n",
            "1/1 [==============================] - 0s 53ms/step\n",
            "1/1 [==============================] - 0s 48ms/step\n",
            "1/1 [==============================] - 0s 42ms/step\n",
            "1/1 [==============================] - 0s 46ms/step\n",
            "1/1 [==============================] - 0s 49ms/step\n",
            "1/1 [==============================] - 0s 43ms/step\n",
            "1/1 [==============================] - 0s 50ms/step\n",
            "1/1 [==============================] - 0s 40ms/step\n",
            "1/1 [==============================] - 0s 36ms/step\n",
            "1/1 [==============================] - 0s 38ms/step\n",
            "1/1 [==============================] - 0s 55ms/step\n",
            "1/1 [==============================] - 0s 53ms/step\n",
            "1/1 [==============================] - 0s 52ms/step\n",
            "1/1 [==============================] - 0s 47ms/step\n",
            "1/1 [==============================] - 0s 45ms/step\n",
            "1/1 [==============================] - 0s 55ms/step\n",
            "1/1 [==============================] - 0s 57ms/step\n",
            "1/1 [==============================] - 0s 50ms/step\n",
            "1/1 [==============================] - 0s 70ms/step\n",
            "1/1 [==============================] - 0s 44ms/step\n",
            "1/1 [==============================] - 0s 42ms/step\n",
            "1/1 [==============================] - 0s 38ms/step\n",
            "1/1 [==============================] - 0s 59ms/step\n",
            "1/1 [==============================] - 0s 65ms/step\n",
            "1/1 [==============================] - 0s 68ms/step\n",
            "1/1 [==============================] - 0s 66ms/step\n",
            "1/1 [==============================] - 0s 33ms/step\n",
            "1/1 [==============================] - 0s 44ms/step\n",
            "1/1 [==============================] - 0s 44ms/step\n",
            "1/1 [==============================] - 0s 43ms/step\n",
            "1/1 [==============================] - 0s 42ms/step\n",
            "1/1 [==============================] - 0s 63ms/step\n",
            "1/1 [==============================] - 0s 54ms/step\n",
            "1/1 [==============================] - 0s 55ms/step\n",
            "1/1 [==============================] - 0s 46ms/step\n",
            "1/1 [==============================] - 0s 39ms/step\n",
            "1/1 [==============================] - 0s 41ms/step\n",
            "1/1 [==============================] - 0s 45ms/step\n",
            "1/1 [==============================] - 0s 49ms/step\n",
            "1/1 [==============================] - 0s 40ms/step\n",
            "1/1 [==============================] - 0s 39ms/step\n",
            "1/1 [==============================] - 0s 42ms/step\n",
            "1/1 [==============================] - 0s 40ms/step\n",
            "1/1 [==============================] - 0s 50ms/step\n",
            "1/1 [==============================] - 0s 56ms/step\n",
            "1/1 [==============================] - 0s 45ms/step\n",
            "1/1 [==============================] - 0s 35ms/step\n",
            "1/1 [==============================] - 0s 34ms/step\n",
            "1/1 [==============================] - 0s 37ms/step\n",
            "1/1 [==============================] - 0s 40ms/step\n",
            "1/1 [==============================] - 0s 41ms/step\n",
            "1/1 [==============================] - 0s 46ms/step\n",
            "1/1 [==============================] - 0s 35ms/step\n",
            "1/1 [==============================] - 0s 43ms/step\n",
            "1/1 [==============================] - 0s 36ms/step\n",
            "1/1 [==============================] - 0s 38ms/step\n",
            "1/1 [==============================] - 0s 37ms/step\n",
            "1/1 [==============================] - 0s 38ms/step\n",
            "1/1 [==============================] - 0s 42ms/step\n",
            "1/1 [==============================] - 0s 37ms/step\n",
            "1/1 [==============================] - 0s 40ms/step\n",
            "1/1 [==============================] - 0s 48ms/step\n",
            "1/1 [==============================] - 0s 41ms/step\n",
            "1/1 [==============================] - 0s 37ms/step\n",
            "1/1 [==============================] - 0s 42ms/step\n",
            "1/1 [==============================] - 0s 43ms/step\n",
            "1/1 [==============================] - 0s 39ms/step\n",
            "1/1 [==============================] - 0s 43ms/step\n",
            "1/1 [==============================] - 0s 55ms/step\n",
            "1/1 [==============================] - 0s 61ms/step\n",
            "1/1 [==============================] - 0s 65ms/step\n",
            "1/1 [==============================] - 0s 38ms/step\n",
            "1/1 [==============================] - 0s 56ms/step\n",
            "1/1 [==============================] - 0s 48ms/step\n",
            "1/1 [==============================] - 0s 42ms/step\n",
            "1/1 [==============================] - 0s 48ms/step\n",
            "1/1 [==============================] - 0s 50ms/step\n",
            "1/1 [==============================] - 0s 38ms/step\n",
            "1/1 [==============================] - 0s 43ms/step\n",
            "1/1 [==============================] - 0s 45ms/step\n",
            "1/1 [==============================] - 0s 40ms/step\n",
            "1/1 [==============================] - 0s 36ms/step\n",
            "1/1 [==============================] - 0s 38ms/step\n",
            "1/1 [==============================] - 0s 47ms/step\n",
            "1/1 [==============================] - 0s 48ms/step\n",
            "1/1 [==============================] - 0s 39ms/step\n",
            "1/1 [==============================] - 0s 39ms/step\n",
            "1/1 [==============================] - 0s 42ms/step\n",
            "1/1 [==============================] - 0s 37ms/step\n",
            "1/1 [==============================] - 0s 36ms/step\n",
            "1/1 [==============================] - 0s 40ms/step\n",
            "1/1 [==============================] - 0s 35ms/step\n",
            "1/1 [==============================] - 0s 36ms/step\n",
            "1/1 [==============================] - 0s 48ms/step\n",
            "1/1 [==============================] - 0s 41ms/step\n",
            "1/1 [==============================] - 0s 46ms/step\n",
            "1/1 [==============================] - 0s 38ms/step\n",
            "1/1 [==============================] - 0s 34ms/step\n",
            "1/1 [==============================] - 0s 41ms/step\n",
            "1/1 [==============================] - 0s 38ms/step\n",
            "1/1 [==============================] - 0s 41ms/step\n",
            "1/1 [==============================] - 0s 37ms/step\n",
            "1/1 [==============================] - 0s 38ms/step\n",
            "1/1 [==============================] - 0s 42ms/step\n",
            "1/1 [==============================] - 0s 45ms/step\n",
            "1/1 [==============================] - 0s 42ms/step\n",
            "1/1 [==============================] - 0s 38ms/step\n",
            "1/1 [==============================] - 0s 42ms/step\n",
            "1/1 [==============================] - 0s 39ms/step\n",
            "1/1 [==============================] - 0s 45ms/step\n",
            "1/1 [==============================] - 0s 47ms/step\n",
            "1/1 [==============================] - 0s 40ms/step\n"
          ]
        }
      ],
      "source": [
        "poem = printSonnet(\"the love was flowered\")"
      ]
    },
    {
      "cell_type": "code",
      "execution_count": 36,
      "metadata": {
        "id": "5uEWZaTjUi-p"
      },
      "outputs": [],
      "source": [
        "model.save('new_model.h5')"
      ]
    },
    {
      "cell_type": "code",
      "execution_count": 38,
      "metadata": {
        "id": "tduSyomVWcWn"
      },
      "outputs": [],
      "source": [
        "# saving\n",
        "with open('tokenizer.pickle', 'wb') as handle:\n",
        "    pickle.dump(tokenizer, handle, protocol=pickle.HIGHEST_PROTOCOL)"
      ]
    },
    {
      "cell_type": "code",
      "execution_count": 8,
      "metadata": {
        "id": "_wwtJMbrWgaF"
      },
      "outputs": [],
      "source": [
        "# loading\n",
        "with open('tokenizer.pickle', 'rb') as handle:\n",
        "    tokenizerLoaded = pickle.load(handle)"
      ]
    },
    {
      "cell_type": "code",
      "execution_count": 40,
      "metadata": {
        "colab": {
          "base_uri": "https://localhost:8080/"
        },
        "id": "xyetSN07W4Ak",
        "outputId": "56651b4c-2a36-4888-8a7e-d811b0688b03"
      },
      "outputs": [
        {
          "data": {
            "text/plain": [
              "163"
            ]
          },
          "execution_count": 40,
          "metadata": {},
          "output_type": "execute_result"
        }
      ],
      "source": [
        "max_sequence_len"
      ]
    },
    {
      "cell_type": "code",
      "execution_count": 93,
      "metadata": {
        "id": "OpFNd_kBUyYL"
      },
      "outputs": [],
      "source": [
        "def generate_sonnet(seed_text):\n",
        "  MAX_SEQ_LEN = 163\n",
        "  for i in range(14):\n",
        "    token_list = tokenizerLoaded.texts_to_sequences([seed_text])[0]\n",
        "    token_list = pad_sequences([token_list], maxlen = MAX_SEQ_LEN-1, padding='pre')\n",
        "    predicted = np.argmax(model.predict(token_list), axis=-1)\n",
        "    output_word = \"\"\n",
        "\n",
        "    for word, index in tokenizer.word_index.items():\n",
        "      if index == predicted:\n",
        "        output_word = word\n",
        "        break\n",
        "    seed_text += \" \" + output_word\n",
        "  return seed_text"
      ]
    },
    {
      "cell_type": "code",
      "execution_count": 98,
      "metadata": {
        "colab": {
          "base_uri": "https://localhost:8080/"
        },
        "id": "zYKsJpdXXxQD",
        "outputId": "de349f63-0213-4298-aac6-118f2248be97"
      },
      "outputs": [
        {
          "name": "stdout",
          "output_type": "stream",
          "text": [
            "1/1 [==============================] - 0s 28ms/step\n",
            "1/1 [==============================] - 0s 24ms/step\n",
            "1/1 [==============================] - 0s 24ms/step\n",
            "1/1 [==============================] - 0s 26ms/step\n",
            "1/1 [==============================] - 0s 27ms/step\n",
            "1/1 [==============================] - 0s 23ms/step\n",
            "1/1 [==============================] - 0s 24ms/step\n",
            "1/1 [==============================] - 0s 26ms/step\n",
            "1/1 [==============================] - 0s 27ms/step\n",
            "1/1 [==============================] - 0s 27ms/step\n",
            "1/1 [==============================] - 0s 28ms/step\n",
            "1/1 [==============================] - 0s 28ms/step\n",
            "1/1 [==============================] - 0s 26ms/step\n",
            "1/1 [==============================] - 0s 25ms/step\n"
          ]
        }
      ],
      "source": [
        "pred1 = generate_sonnet(\"loving beyond\")"
      ]
    },
    {
      "cell_type": "code",
      "execution_count": 99,
      "metadata": {
        "colab": {
          "base_uri": "https://localhost:8080/",
          "height": 35
        },
        "id": "vOUqxWREcX8X",
        "outputId": "36d0fab9-ca7d-4b07-dbee-78517a8effd9"
      },
      "outputs": [
        {
          "data": {
            "application/vnd.google.colaboratory.intrinsic+json": {
              "type": "string"
            },
            "text/plain": [
              "'love to the world and i will tell you what a man is not a'"
            ]
          },
          "execution_count": 99,
          "metadata": {},
          "output_type": "execute_result"
        }
      ],
      "source": [
        "pred"
      ]
    },
    {
      "cell_type": "code",
      "execution_count": 100,
      "metadata": {
        "colab": {
          "base_uri": "https://localhost:8080/",
          "height": 35
        },
        "id": "idLOLbvAck58",
        "outputId": "1c2c659b-4a76-49f5-d268-980ec419f70d"
      },
      "outputs": [
        {
          "data": {
            "application/vnd.google.colaboratory.intrinsic+json": {
              "type": "string"
            },
            "text/plain": [
              "'loving beyond the world and i will be a little of the world and i am'"
            ]
          },
          "execution_count": 100,
          "metadata": {},
          "output_type": "execute_result"
        }
      ],
      "source": [
        "pred1"
      ]
    },
    {
      "cell_type": "code",
      "execution_count": null,
      "metadata": {
        "id": "7VhI2mm5cxhK"
      },
      "outputs": [],
      "source": []
    }
  ],
  "metadata": {
    "accelerator": "GPU",
    "colab": {
      "gpuType": "T4",
      "provenance": []
    },
    "gpuClass": "standard",
    "kernelspec": {
      "display_name": "Python 3.8.0 64-bit",
      "language": "python",
      "name": "python3"
    },
    "language_info": {
      "codemirror_mode": {
        "name": "ipython",
        "version": 3
      },
      "file_extension": ".py",
      "mimetype": "text/x-python",
      "name": "python",
      "nbconvert_exporter": "python",
      "pygments_lexer": "ipython3",
      "version": "3.8.10"
    },
    "orig_nbformat": 4,
    "vscode": {
      "interpreter": {
        "hash": "cd2ccc147b25bc63e03b8c2078329f48b3831a7ce96f0169912c1ccdf48e1006"
      }
    }
  },
  "nbformat": 4,
  "nbformat_minor": 0
}
