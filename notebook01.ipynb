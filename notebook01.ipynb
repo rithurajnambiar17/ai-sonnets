{
 "cells": [
  {
   "cell_type": "code",
   "execution_count": 16,
   "metadata": {},
   "outputs": [],
   "source": [
    "import re\n",
    "import os\n",
    "import numpy as np\n",
    "import tensorflow as tf\n"
   ]
  },
  {
   "cell_type": "code",
   "execution_count": 27,
   "metadata": {},
   "outputs": [],
   "source": [
    "SEQ_LENGTH = 10  # sequence length for each line of the sonnet\n",
    "BATCH_SIZE = 128  # batch size for training\n",
    "BUFFER_SIZE = 10000  # buffer size for shuffling the data\n",
    "EMBEDDING_DIM = 256  # embedding dimension for the generator and discriminator\n",
    "GEN_HIDDEN_DIM = 512  # number of hidden units in the generator\n",
    "DISC_HIDDEN_DIM = 512  # number of hidden units in the discriminator\n",
    "DROPOUT_RATE = 0.3  # dropout rate for the generator and discriminator\n",
    "LEARNING_RATE = 1e-4  # learning rate for the optimizer\n",
    "EPOCHS = 100  # number of epochs to train for"
   ]
  },
  {
   "cell_type": "code",
   "execution_count": 19,
   "metadata": {},
   "outputs": [],
   "source": [
    "# read the sonnets from the file\n",
    "with open(\"./data/Sonnet.txt\", \"r\") as f:\n",
    "    text = f.read()\n",
    "\n",
    "# split the text into sonnets\n",
    "sonnets = re.split(\"\\n\\n\", text)\n",
    "\n",
    "# split the sonnets into lines\n",
    "lines = []\n",
    "for sonnet in sonnets:\n",
    "    sonnet_lines = sonnet.split(\"\\n\")\n",
    "    for line in sonnet_lines:\n",
    "        if line.strip() != \"\":\n",
    "            lines.append(line.strip())"
   ]
  },
  {
   "cell_type": "code",
   "execution_count": 38,
   "metadata": {},
   "outputs": [],
   "source": [
    "def remove_punctuation(text):\n",
    "    # define the regex pattern for punctuation\n",
    "    pattern = r\"[^\\w\\s]\"\n",
    "\n",
    "    # remove all occurrences of the pattern from the text\n",
    "    text = re.sub(pattern, \"\", text)\n",
    "\n",
    "    return text"
   ]
  },
  {
   "cell_type": "code",
   "execution_count": 43,
   "metadata": {},
   "outputs": [],
   "source": [
    "for i in range(len(lines)):\n",
    "    lines[i] = remove_punctuation(lines[i])"
   ]
  },
  {
   "cell_type": "code",
   "execution_count": 50,
   "metadata": {},
   "outputs": [],
   "source": [
    "# tokenize the words\n",
    "tokenizer = tf.keras.preprocessing.text.Tokenizer(filters=\"\", lower=False)\n",
    "tokenizer.fit_on_texts(lines)\n",
    "word_index = tokenizer.word_index\n",
    "vocab_size = len(word_index)\n",
    "\n",
    "# convert the lines to sequences of token IDs\n",
    "sequences = tokenizer.texts_to_sequences(lines)\n",
    "\n",
    "# pad the sequences to a fixed length\n",
    "padded_sequences = tf.keras.preprocessing.sequence.pad_sequences(\n",
    "    sequences, maxlen=9, padding=\"post\", truncating=\"post\"\n",
    ")"
   ]
  },
  {
   "cell_type": "code",
   "execution_count": 48,
   "metadata": {},
   "outputs": [
    {
     "data": {
      "text/plain": [
       "'ïFrom fairest creatures we desire increase'"
      ]
     },
     "execution_count": 48,
     "metadata": {},
     "output_type": "execute_result"
    }
   ],
   "source": []
  },
  {
   "cell_type": "code",
   "execution_count": null,
   "metadata": {},
   "outputs": [],
   "source": []
  }
 ],
 "metadata": {
  "kernelspec": {
   "display_name": "Python 3.8.0 64-bit",
   "language": "python",
   "name": "python3"
  },
  "language_info": {
   "codemirror_mode": {
    "name": "ipython",
    "version": 3
   },
   "file_extension": ".py",
   "mimetype": "text/x-python",
   "name": "python",
   "nbconvert_exporter": "python",
   "pygments_lexer": "ipython3",
   "version": "3.8.0"
  },
  "orig_nbformat": 4,
  "vscode": {
   "interpreter": {
    "hash": "cd2ccc147b25bc63e03b8c2078329f48b3831a7ce96f0169912c1ccdf48e1006"
   }
  }
 },
 "nbformat": 4,
 "nbformat_minor": 2
}
